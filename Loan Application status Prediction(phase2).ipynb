{
 "cells": [
  {
   "cell_type": "markdown",
   "id": "f6cad293",
   "metadata": {},
   "source": [
    "# Problem Statement:-\n",
    "\n",
    "\n",
    "This dataset includes details of applicants who have applied for loan. The dataset includes details like credit history, loan amount, their income, dependents etc. \n",
    "Independent Variables:\n",
    "1.\tLoan_ID - This refer to the unique identifier of the applicant's affirmed purchases\n",
    "2.\tGender - This refers to either of the two main categories (male and female) into which applicants are divided on the basis of their reproductive functions\n",
    "3.\tMarried - This refers to applicant being in a state of matrimony\n",
    "4.\tDependents - This refres to persons who depends on the applicants for survival\n",
    "5.\tEducation - This refers to number of years in which applicant received systematic instruction, especially at a school or university\n",
    "6.\tSelf_Employed - This refers to applicant working for oneself as a freelancer or the owner of a business rather than for an employer\n",
    "7.\tApplicant Income - This refers to disposable income available for the applicant's use under State law.\n",
    "8.\tCoapplicantIncome - This refers to disposable income available for the people that participate in the loan application process alongside the main applicant use under State law.\n",
    "9.\tLoan_Amount - This refers to the amount of money an applicant owe at any given time.\n",
    "10.\tLoan_Amount_Term - This refers to the duaration in which the loan is availed to the applicant\n",
    "11.\tCredit History - This refers to a record of applicant's ability to repay debts and demonstrated responsibility in repaying them.\n",
    "12.\tProperty_Area - This refers to the total area within the boundaries of the property as set out in Schedule.\n",
    "13.\tLoan_Status - This refres to whether applicant is eligible to be availed the Loan requested.\n",
    "\n",
    "\n",
    "You have to build a model that can predict whether the loan of the applicant will be approved(Loan_status) or not on the basis of the details provided in the dataset. \n",
    "Dataset Link-  https://github.com/dsrscientist/DSData/blob/master/loan_prediction.csv\n"
   ]
  },
  {
   "cell_type": "code",
   "execution_count": 1,
   "id": "47079b99",
   "metadata": {},
   "outputs": [],
   "source": [
    "# Import the necessary libraries\n",
    "\n",
    "import pandas as pd\n",
    "import numpy as np\n",
    "import matplotlib.pyplot as plt\n",
    "%matplotlib inline\n",
    "import seaborn as sns\n",
    "import  warnings\n",
    "warnings.filterwarnings('ignore')"
   ]
  },
  {
   "cell_type": "code",
   "execution_count": 2,
   "id": "4c2e651c",
   "metadata": {},
   "outputs": [],
   "source": [
    "df=pd.read_csv(r'https://raw.githubusercontent.com/dsrscientist/DSData/master/loan_prediction.csv')"
   ]
  },
  {
   "cell_type": "code",
   "execution_count": 3,
   "id": "7718bbcb",
   "metadata": {},
   "outputs": [
    {
     "data": {
      "text/html": [
       "<div>\n",
       "<style scoped>\n",
       "    .dataframe tbody tr th:only-of-type {\n",
       "        vertical-align: middle;\n",
       "    }\n",
       "\n",
       "    .dataframe tbody tr th {\n",
       "        vertical-align: top;\n",
       "    }\n",
       "\n",
       "    .dataframe thead th {\n",
       "        text-align: right;\n",
       "    }\n",
       "</style>\n",
       "<table border=\"1\" class=\"dataframe\">\n",
       "  <thead>\n",
       "    <tr style=\"text-align: right;\">\n",
       "      <th></th>\n",
       "      <th>Loan_ID</th>\n",
       "      <th>Gender</th>\n",
       "      <th>Married</th>\n",
       "      <th>Dependents</th>\n",
       "      <th>Education</th>\n",
       "      <th>Self_Employed</th>\n",
       "      <th>ApplicantIncome</th>\n",
       "      <th>CoapplicantIncome</th>\n",
       "      <th>LoanAmount</th>\n",
       "      <th>Loan_Amount_Term</th>\n",
       "      <th>Credit_History</th>\n",
       "      <th>Property_Area</th>\n",
       "      <th>Loan_Status</th>\n",
       "    </tr>\n",
       "  </thead>\n",
       "  <tbody>\n",
       "    <tr>\n",
       "      <th>0</th>\n",
       "      <td>LP001002</td>\n",
       "      <td>Male</td>\n",
       "      <td>No</td>\n",
       "      <td>0</td>\n",
       "      <td>Graduate</td>\n",
       "      <td>No</td>\n",
       "      <td>5849</td>\n",
       "      <td>0.0</td>\n",
       "      <td>NaN</td>\n",
       "      <td>360.0</td>\n",
       "      <td>1.0</td>\n",
       "      <td>Urban</td>\n",
       "      <td>Y</td>\n",
       "    </tr>\n",
       "    <tr>\n",
       "      <th>1</th>\n",
       "      <td>LP001003</td>\n",
       "      <td>Male</td>\n",
       "      <td>Yes</td>\n",
       "      <td>1</td>\n",
       "      <td>Graduate</td>\n",
       "      <td>No</td>\n",
       "      <td>4583</td>\n",
       "      <td>1508.0</td>\n",
       "      <td>128.0</td>\n",
       "      <td>360.0</td>\n",
       "      <td>1.0</td>\n",
       "      <td>Rural</td>\n",
       "      <td>N</td>\n",
       "    </tr>\n",
       "    <tr>\n",
       "      <th>2</th>\n",
       "      <td>LP001005</td>\n",
       "      <td>Male</td>\n",
       "      <td>Yes</td>\n",
       "      <td>0</td>\n",
       "      <td>Graduate</td>\n",
       "      <td>Yes</td>\n",
       "      <td>3000</td>\n",
       "      <td>0.0</td>\n",
       "      <td>66.0</td>\n",
       "      <td>360.0</td>\n",
       "      <td>1.0</td>\n",
       "      <td>Urban</td>\n",
       "      <td>Y</td>\n",
       "    </tr>\n",
       "    <tr>\n",
       "      <th>3</th>\n",
       "      <td>LP001006</td>\n",
       "      <td>Male</td>\n",
       "      <td>Yes</td>\n",
       "      <td>0</td>\n",
       "      <td>Not Graduate</td>\n",
       "      <td>No</td>\n",
       "      <td>2583</td>\n",
       "      <td>2358.0</td>\n",
       "      <td>120.0</td>\n",
       "      <td>360.0</td>\n",
       "      <td>1.0</td>\n",
       "      <td>Urban</td>\n",
       "      <td>Y</td>\n",
       "    </tr>\n",
       "    <tr>\n",
       "      <th>4</th>\n",
       "      <td>LP001008</td>\n",
       "      <td>Male</td>\n",
       "      <td>No</td>\n",
       "      <td>0</td>\n",
       "      <td>Graduate</td>\n",
       "      <td>No</td>\n",
       "      <td>6000</td>\n",
       "      <td>0.0</td>\n",
       "      <td>141.0</td>\n",
       "      <td>360.0</td>\n",
       "      <td>1.0</td>\n",
       "      <td>Urban</td>\n",
       "      <td>Y</td>\n",
       "    </tr>\n",
       "    <tr>\n",
       "      <th>...</th>\n",
       "      <td>...</td>\n",
       "      <td>...</td>\n",
       "      <td>...</td>\n",
       "      <td>...</td>\n",
       "      <td>...</td>\n",
       "      <td>...</td>\n",
       "      <td>...</td>\n",
       "      <td>...</td>\n",
       "      <td>...</td>\n",
       "      <td>...</td>\n",
       "      <td>...</td>\n",
       "      <td>...</td>\n",
       "      <td>...</td>\n",
       "    </tr>\n",
       "    <tr>\n",
       "      <th>609</th>\n",
       "      <td>LP002978</td>\n",
       "      <td>Female</td>\n",
       "      <td>No</td>\n",
       "      <td>0</td>\n",
       "      <td>Graduate</td>\n",
       "      <td>No</td>\n",
       "      <td>2900</td>\n",
       "      <td>0.0</td>\n",
       "      <td>71.0</td>\n",
       "      <td>360.0</td>\n",
       "      <td>1.0</td>\n",
       "      <td>Rural</td>\n",
       "      <td>Y</td>\n",
       "    </tr>\n",
       "    <tr>\n",
       "      <th>610</th>\n",
       "      <td>LP002979</td>\n",
       "      <td>Male</td>\n",
       "      <td>Yes</td>\n",
       "      <td>3+</td>\n",
       "      <td>Graduate</td>\n",
       "      <td>No</td>\n",
       "      <td>4106</td>\n",
       "      <td>0.0</td>\n",
       "      <td>40.0</td>\n",
       "      <td>180.0</td>\n",
       "      <td>1.0</td>\n",
       "      <td>Rural</td>\n",
       "      <td>Y</td>\n",
       "    </tr>\n",
       "    <tr>\n",
       "      <th>611</th>\n",
       "      <td>LP002983</td>\n",
       "      <td>Male</td>\n",
       "      <td>Yes</td>\n",
       "      <td>1</td>\n",
       "      <td>Graduate</td>\n",
       "      <td>No</td>\n",
       "      <td>8072</td>\n",
       "      <td>240.0</td>\n",
       "      <td>253.0</td>\n",
       "      <td>360.0</td>\n",
       "      <td>1.0</td>\n",
       "      <td>Urban</td>\n",
       "      <td>Y</td>\n",
       "    </tr>\n",
       "    <tr>\n",
       "      <th>612</th>\n",
       "      <td>LP002984</td>\n",
       "      <td>Male</td>\n",
       "      <td>Yes</td>\n",
       "      <td>2</td>\n",
       "      <td>Graduate</td>\n",
       "      <td>No</td>\n",
       "      <td>7583</td>\n",
       "      <td>0.0</td>\n",
       "      <td>187.0</td>\n",
       "      <td>360.0</td>\n",
       "      <td>1.0</td>\n",
       "      <td>Urban</td>\n",
       "      <td>Y</td>\n",
       "    </tr>\n",
       "    <tr>\n",
       "      <th>613</th>\n",
       "      <td>LP002990</td>\n",
       "      <td>Female</td>\n",
       "      <td>No</td>\n",
       "      <td>0</td>\n",
       "      <td>Graduate</td>\n",
       "      <td>Yes</td>\n",
       "      <td>4583</td>\n",
       "      <td>0.0</td>\n",
       "      <td>133.0</td>\n",
       "      <td>360.0</td>\n",
       "      <td>0.0</td>\n",
       "      <td>Semiurban</td>\n",
       "      <td>N</td>\n",
       "    </tr>\n",
       "  </tbody>\n",
       "</table>\n",
       "<p>614 rows × 13 columns</p>\n",
       "</div>"
      ],
      "text/plain": [
       "      Loan_ID  Gender Married Dependents     Education Self_Employed  \\\n",
       "0    LP001002    Male      No          0      Graduate            No   \n",
       "1    LP001003    Male     Yes          1      Graduate            No   \n",
       "2    LP001005    Male     Yes          0      Graduate           Yes   \n",
       "3    LP001006    Male     Yes          0  Not Graduate            No   \n",
       "4    LP001008    Male      No          0      Graduate            No   \n",
       "..        ...     ...     ...        ...           ...           ...   \n",
       "609  LP002978  Female      No          0      Graduate            No   \n",
       "610  LP002979    Male     Yes         3+      Graduate            No   \n",
       "611  LP002983    Male     Yes          1      Graduate            No   \n",
       "612  LP002984    Male     Yes          2      Graduate            No   \n",
       "613  LP002990  Female      No          0      Graduate           Yes   \n",
       "\n",
       "     ApplicantIncome  CoapplicantIncome  LoanAmount  Loan_Amount_Term  \\\n",
       "0               5849                0.0         NaN             360.0   \n",
       "1               4583             1508.0       128.0             360.0   \n",
       "2               3000                0.0        66.0             360.0   \n",
       "3               2583             2358.0       120.0             360.0   \n",
       "4               6000                0.0       141.0             360.0   \n",
       "..               ...                ...         ...               ...   \n",
       "609             2900                0.0        71.0             360.0   \n",
       "610             4106                0.0        40.0             180.0   \n",
       "611             8072              240.0       253.0             360.0   \n",
       "612             7583                0.0       187.0             360.0   \n",
       "613             4583                0.0       133.0             360.0   \n",
       "\n",
       "     Credit_History Property_Area Loan_Status  \n",
       "0               1.0         Urban           Y  \n",
       "1               1.0         Rural           N  \n",
       "2               1.0         Urban           Y  \n",
       "3               1.0         Urban           Y  \n",
       "4               1.0         Urban           Y  \n",
       "..              ...           ...         ...  \n",
       "609             1.0         Rural           Y  \n",
       "610             1.0         Rural           Y  \n",
       "611             1.0         Urban           Y  \n",
       "612             1.0         Urban           Y  \n",
       "613             0.0     Semiurban           N  \n",
       "\n",
       "[614 rows x 13 columns]"
      ]
     },
     "execution_count": 3,
     "metadata": {},
     "output_type": "execute_result"
    }
   ],
   "source": [
    "df"
   ]
  },
  {
   "cell_type": "code",
   "execution_count": 4,
   "id": "46d24a63",
   "metadata": {},
   "outputs": [
    {
     "data": {
      "text/html": [
       "<div>\n",
       "<style scoped>\n",
       "    .dataframe tbody tr th:only-of-type {\n",
       "        vertical-align: middle;\n",
       "    }\n",
       "\n",
       "    .dataframe tbody tr th {\n",
       "        vertical-align: top;\n",
       "    }\n",
       "\n",
       "    .dataframe thead th {\n",
       "        text-align: right;\n",
       "    }\n",
       "</style>\n",
       "<table border=\"1\" class=\"dataframe\">\n",
       "  <thead>\n",
       "    <tr style=\"text-align: right;\">\n",
       "      <th></th>\n",
       "      <th>Loan_ID</th>\n",
       "      <th>Gender</th>\n",
       "      <th>Married</th>\n",
       "      <th>Dependents</th>\n",
       "      <th>Education</th>\n",
       "      <th>Self_Employed</th>\n",
       "      <th>ApplicantIncome</th>\n",
       "      <th>CoapplicantIncome</th>\n",
       "      <th>LoanAmount</th>\n",
       "      <th>Loan_Amount_Term</th>\n",
       "      <th>Credit_History</th>\n",
       "      <th>Property_Area</th>\n",
       "      <th>Loan_Status</th>\n",
       "    </tr>\n",
       "  </thead>\n",
       "  <tbody>\n",
       "    <tr>\n",
       "      <th>0</th>\n",
       "      <td>LP001002</td>\n",
       "      <td>Male</td>\n",
       "      <td>No</td>\n",
       "      <td>0</td>\n",
       "      <td>Graduate</td>\n",
       "      <td>No</td>\n",
       "      <td>5849</td>\n",
       "      <td>0.0</td>\n",
       "      <td>NaN</td>\n",
       "      <td>360.0</td>\n",
       "      <td>1.0</td>\n",
       "      <td>Urban</td>\n",
       "      <td>Y</td>\n",
       "    </tr>\n",
       "    <tr>\n",
       "      <th>1</th>\n",
       "      <td>LP001003</td>\n",
       "      <td>Male</td>\n",
       "      <td>Yes</td>\n",
       "      <td>1</td>\n",
       "      <td>Graduate</td>\n",
       "      <td>No</td>\n",
       "      <td>4583</td>\n",
       "      <td>1508.0</td>\n",
       "      <td>128.0</td>\n",
       "      <td>360.0</td>\n",
       "      <td>1.0</td>\n",
       "      <td>Rural</td>\n",
       "      <td>N</td>\n",
       "    </tr>\n",
       "    <tr>\n",
       "      <th>2</th>\n",
       "      <td>LP001005</td>\n",
       "      <td>Male</td>\n",
       "      <td>Yes</td>\n",
       "      <td>0</td>\n",
       "      <td>Graduate</td>\n",
       "      <td>Yes</td>\n",
       "      <td>3000</td>\n",
       "      <td>0.0</td>\n",
       "      <td>66.0</td>\n",
       "      <td>360.0</td>\n",
       "      <td>1.0</td>\n",
       "      <td>Urban</td>\n",
       "      <td>Y</td>\n",
       "    </tr>\n",
       "    <tr>\n",
       "      <th>3</th>\n",
       "      <td>LP001006</td>\n",
       "      <td>Male</td>\n",
       "      <td>Yes</td>\n",
       "      <td>0</td>\n",
       "      <td>Not Graduate</td>\n",
       "      <td>No</td>\n",
       "      <td>2583</td>\n",
       "      <td>2358.0</td>\n",
       "      <td>120.0</td>\n",
       "      <td>360.0</td>\n",
       "      <td>1.0</td>\n",
       "      <td>Urban</td>\n",
       "      <td>Y</td>\n",
       "    </tr>\n",
       "    <tr>\n",
       "      <th>4</th>\n",
       "      <td>LP001008</td>\n",
       "      <td>Male</td>\n",
       "      <td>No</td>\n",
       "      <td>0</td>\n",
       "      <td>Graduate</td>\n",
       "      <td>No</td>\n",
       "      <td>6000</td>\n",
       "      <td>0.0</td>\n",
       "      <td>141.0</td>\n",
       "      <td>360.0</td>\n",
       "      <td>1.0</td>\n",
       "      <td>Urban</td>\n",
       "      <td>Y</td>\n",
       "    </tr>\n",
       "  </tbody>\n",
       "</table>\n",
       "</div>"
      ],
      "text/plain": [
       "    Loan_ID Gender Married Dependents     Education Self_Employed  \\\n",
       "0  LP001002   Male      No          0      Graduate            No   \n",
       "1  LP001003   Male     Yes          1      Graduate            No   \n",
       "2  LP001005   Male     Yes          0      Graduate           Yes   \n",
       "3  LP001006   Male     Yes          0  Not Graduate            No   \n",
       "4  LP001008   Male      No          0      Graduate            No   \n",
       "\n",
       "   ApplicantIncome  CoapplicantIncome  LoanAmount  Loan_Amount_Term  \\\n",
       "0             5849                0.0         NaN             360.0   \n",
       "1             4583             1508.0       128.0             360.0   \n",
       "2             3000                0.0        66.0             360.0   \n",
       "3             2583             2358.0       120.0             360.0   \n",
       "4             6000                0.0       141.0             360.0   \n",
       "\n",
       "   Credit_History Property_Area Loan_Status  \n",
       "0             1.0         Urban           Y  \n",
       "1             1.0         Rural           N  \n",
       "2             1.0         Urban           Y  \n",
       "3             1.0         Urban           Y  \n",
       "4             1.0         Urban           Y  "
      ]
     },
     "execution_count": 4,
     "metadata": {},
     "output_type": "execute_result"
    }
   ],
   "source": [
    "df.head()"
   ]
  },
  {
   "cell_type": "code",
   "execution_count": 5,
   "id": "6df26a43",
   "metadata": {},
   "outputs": [],
   "source": [
    "# there are total 614 rows and 13 columns."
   ]
  },
  {
   "cell_type": "code",
   "execution_count": 6,
   "id": "8bc9b7a5",
   "metadata": {},
   "outputs": [
    {
     "name": "stdout",
     "output_type": "stream",
     "text": [
      "<class 'pandas.core.frame.DataFrame'>\n",
      "RangeIndex: 614 entries, 0 to 613\n",
      "Data columns (total 13 columns):\n",
      " #   Column             Non-Null Count  Dtype  \n",
      "---  ------             --------------  -----  \n",
      " 0   Loan_ID            614 non-null    object \n",
      " 1   Gender             601 non-null    object \n",
      " 2   Married            611 non-null    object \n",
      " 3   Dependents         599 non-null    object \n",
      " 4   Education          614 non-null    object \n",
      " 5   Self_Employed      582 non-null    object \n",
      " 6   ApplicantIncome    614 non-null    int64  \n",
      " 7   CoapplicantIncome  614 non-null    float64\n",
      " 8   LoanAmount         592 non-null    float64\n",
      " 9   Loan_Amount_Term   600 non-null    float64\n",
      " 10  Credit_History     564 non-null    float64\n",
      " 11  Property_Area      614 non-null    object \n",
      " 12  Loan_Status        614 non-null    object \n",
      "dtypes: float64(4), int64(1), object(8)\n",
      "memory usage: 62.5+ KB\n"
     ]
    }
   ],
   "source": [
    "df.info()"
   ]
  },
  {
   "cell_type": "code",
   "execution_count": 7,
   "id": "174fae58",
   "metadata": {},
   "outputs": [
    {
     "data": {
      "text/plain": [
       "Loan_ID               0\n",
       "Gender               13\n",
       "Married               3\n",
       "Dependents           15\n",
       "Education             0\n",
       "Self_Employed        32\n",
       "ApplicantIncome       0\n",
       "CoapplicantIncome     0\n",
       "LoanAmount           22\n",
       "Loan_Amount_Term     14\n",
       "Credit_History       50\n",
       "Property_Area         0\n",
       "Loan_Status           0\n",
       "dtype: int64"
      ]
     },
     "execution_count": 7,
     "metadata": {},
     "output_type": "execute_result"
    }
   ],
   "source": [
    "df.isna().sum()"
   ]
  },
  {
   "cell_type": "code",
   "execution_count": 8,
   "id": "fa635eca",
   "metadata": {},
   "outputs": [],
   "source": [
    "# There are null values present in the dataset."
   ]
  },
  {
   "cell_type": "code",
   "execution_count": 9,
   "id": "1920b0ab",
   "metadata": {},
   "outputs": [
    {
     "data": {
      "text/plain": [
       "<AxesSubplot:>"
      ]
     },
     "execution_count": 9,
     "metadata": {},
     "output_type": "execute_result"
    },
    {
     "data": {
      "image/png": "[encoded data removed]",
      "text/plain": [
       "<Figure size 432x288 with 2 Axes>"
      ]
     },
     "metadata": {
      "needs_background": "light"
     },
     "output_type": "display_data"
    }
   ],
   "source": [
    "sns.heatmap(df.isnull())"
   ]
  },
  {
   "cell_type": "code",
   "execution_count": 10,
   "id": "f40b39de",
   "metadata": {},
   "outputs": [
    {
     "data": {
      "text/plain": [
       "1.0    475\n",
       "0.0     89\n",
       "Name: Credit_History, dtype: int64"
      ]
     },
     "execution_count": 10,
     "metadata": {},
     "output_type": "execute_result"
    }
   ],
   "source": [
    "        df['Credit_History'].value_counts()"
   ]
  },
  {
   "cell_type": "code",
   "execution_count": 11,
   "id": "9a6790c0",
   "metadata": {},
   "outputs": [],
   "source": [
    "# let's deal wwith the null values first."
   ]
  },
  {
   "cell_type": "code",
   "execution_count": 12,
   "id": "1a33907e",
   "metadata": {},
   "outputs": [],
   "source": [
    "df['Gender']=df['Gender'].fillna(df['Gender'].mode()[0])\n",
    "df['Married']=df['Married'].fillna(df['Married'].mode()[0])\n",
    "df['Dependents']=df['Dependents'].fillna(df['Dependents'].mode()[0])\n",
    "df['Self_Employed']=df['Self_Employed'].fillna(df['Self_Employed'].mode()[0])\n",
    "df['LoanAmount']=df['LoanAmount'].fillna(df['LoanAmount'].median())\n",
    "df['Loan_Amount_Term']=df['Loan_Amount_Term'].fillna(df['Loan_Amount_Term'].median())\n",
    "df['Credit_History']=df['Credit_History'].fillna(df['Credit_History'].mode()[0])\n"
   ]
  },
  {
   "cell_type": "code",
   "execution_count": 13,
   "id": "75042475",
   "metadata": {},
   "outputs": [
    {
     "data": {
      "text/html": [
       "<div>\n",
       "<style scoped>\n",
       "    .dataframe tbody tr th:only-of-type {\n",
       "        vertical-align: middle;\n",
       "    }\n",
       "\n",
       "    .dataframe tbody tr th {\n",
       "        vertical-align: top;\n",
       "    }\n",
       "\n",
       "    .dataframe thead th {\n",
       "        text-align: right;\n",
       "    }\n",
       "</style>\n",
       "<table border=\"1\" class=\"dataframe\">\n",
       "  <thead>\n",
       "    <tr style=\"text-align: right;\">\n",
       "      <th></th>\n",
       "      <th>Loan_ID</th>\n",
       "      <th>Gender</th>\n",
       "      <th>Married</th>\n",
       "      <th>Dependents</th>\n",
       "      <th>Education</th>\n",
       "      <th>Self_Employed</th>\n",
       "      <th>ApplicantIncome</th>\n",
       "      <th>CoapplicantIncome</th>\n",
       "      <th>LoanAmount</th>\n",
       "      <th>Loan_Amount_Term</th>\n",
       "      <th>Credit_History</th>\n",
       "      <th>Property_Area</th>\n",
       "      <th>Loan_Status</th>\n",
       "    </tr>\n",
       "  </thead>\n",
       "  <tbody>\n",
       "    <tr>\n",
       "      <th>0</th>\n",
       "      <td>LP001002</td>\n",
       "      <td>Male</td>\n",
       "      <td>No</td>\n",
       "      <td>0</td>\n",
       "      <td>Graduate</td>\n",
       "      <td>No</td>\n",
       "      <td>5849</td>\n",
       "      <td>0.0</td>\n",
       "      <td>128.0</td>\n",
       "      <td>360.0</td>\n",
       "      <td>1.0</td>\n",
       "      <td>Urban</td>\n",
       "      <td>Y</td>\n",
       "    </tr>\n",
       "    <tr>\n",
       "      <th>1</th>\n",
       "      <td>LP001003</td>\n",
       "      <td>Male</td>\n",
       "      <td>Yes</td>\n",
       "      <td>1</td>\n",
       "      <td>Graduate</td>\n",
       "      <td>No</td>\n",
       "      <td>4583</td>\n",
       "      <td>1508.0</td>\n",
       "      <td>128.0</td>\n",
       "      <td>360.0</td>\n",
       "      <td>1.0</td>\n",
       "      <td>Rural</td>\n",
       "      <td>N</td>\n",
       "    </tr>\n",
       "    <tr>\n",
       "      <th>2</th>\n",
       "      <td>LP001005</td>\n",
       "      <td>Male</td>\n",
       "      <td>Yes</td>\n",
       "      <td>0</td>\n",
       "      <td>Graduate</td>\n",
       "      <td>Yes</td>\n",
       "      <td>3000</td>\n",
       "      <td>0.0</td>\n",
       "      <td>66.0</td>\n",
       "      <td>360.0</td>\n",
       "      <td>1.0</td>\n",
       "      <td>Urban</td>\n",
       "      <td>Y</td>\n",
       "    </tr>\n",
       "    <tr>\n",
       "      <th>3</th>\n",
       "      <td>LP001006</td>\n",
       "      <td>Male</td>\n",
       "      <td>Yes</td>\n",
       "      <td>0</td>\n",
       "      <td>Not Graduate</td>\n",
       "      <td>No</td>\n",
       "      <td>2583</td>\n",
       "      <td>2358.0</td>\n",
       "      <td>120.0</td>\n",
       "      <td>360.0</td>\n",
       "      <td>1.0</td>\n",
       "      <td>Urban</td>\n",
       "      <td>Y</td>\n",
       "    </tr>\n",
       "    <tr>\n",
       "      <th>4</th>\n",
       "      <td>LP001008</td>\n",
       "      <td>Male</td>\n",
       "      <td>No</td>\n",
       "      <td>0</td>\n",
       "      <td>Graduate</td>\n",
       "      <td>No</td>\n",
       "      <td>6000</td>\n",
       "      <td>0.0</td>\n",
       "      <td>141.0</td>\n",
       "      <td>360.0</td>\n",
       "      <td>1.0</td>\n",
       "      <td>Urban</td>\n",
       "      <td>Y</td>\n",
       "    </tr>\n",
       "    <tr>\n",
       "      <th>...</th>\n",
       "      <td>...</td>\n",
       "      <td>...</td>\n",
       "      <td>...</td>\n",
       "      <td>...</td>\n",
       "      <td>...</td>\n",
       "      <td>...</td>\n",
       "      <td>...</td>\n",
       "      <td>...</td>\n",
       "      <td>...</td>\n",
       "      <td>...</td>\n",
       "      <td>...</td>\n",
       "      <td>...</td>\n",
       "      <td>...</td>\n",
       "    </tr>\n",
       "    <tr>\n",
       "      <th>609</th>\n",
       "      <td>LP002978</td>\n",
       "      <td>Female</td>\n",
       "      <td>No</td>\n",
       "      <td>0</td>\n",
       "      <td>Graduate</td>\n",
       "      <td>No</td>\n",
       "      <td>2900</td>\n",
       "      <td>0.0</td>\n",
       "      <td>71.0</td>\n",
       "      <td>360.0</td>\n",
       "      <td>1.0</td>\n",
       "      <td>Rural</td>\n",
       "      <td>Y</td>\n",
       "    </tr>\n",
       "    <tr>\n",
       "      <th>610</th>\n",
       "      <td>LP002979</td>\n",
       "      <td>Male</td>\n",
       "      <td>Yes</td>\n",
       "      <td>3+</td>\n",
       "      <td>Graduate</td>\n",
       "      <td>No</td>\n",
       "      <td>4106</td>\n",
       "      <td>0.0</td>\n",
       "      <td>40.0</td>\n",
       "      <td>180.0</td>\n",
       "      <td>1.0</td>\n",
       "      <td>Rural</td>\n",
       "      <td>Y</td>\n",
       "    </tr>\n",
       "    <tr>\n",
       "      <th>611</th>\n",
       "      <td>LP002983</td>\n",
       "      <td>Male</td>\n",
       "      <td>Yes</td>\n",
       "      <td>1</td>\n",
       "      <td>Graduate</td>\n",
       "      <td>No</td>\n",
       "      <td>8072</td>\n",
       "      <td>240.0</td>\n",
       "      <td>253.0</td>\n",
       "      <td>360.0</td>\n",
       "      <td>1.0</td>\n",
       "      <td>Urban</td>\n",
       "      <td>Y</td>\n",
       "    </tr>\n",
       "    <tr>\n",
       "      <th>612</th>\n",
       "      <td>LP002984</td>\n",
       "      <td>Male</td>\n",
       "      <td>Yes</td>\n",
       "      <td>2</td>\n",
       "      <td>Graduate</td>\n",
       "      <td>No</td>\n",
       "      <td>7583</td>\n",
       "      <td>0.0</td>\n",
       "      <td>187.0</td>\n",
       "      <td>360.0</td>\n",
       "      <td>1.0</td>\n",
       "      <td>Urban</td>\n",
       "      <td>Y</td>\n",
       "    </tr>\n",
       "    <tr>\n",
       "      <th>613</th>\n",
       "      <td>LP002990</td>\n",
       "      <td>Female</td>\n",
       "      <td>No</td>\n",
       "      <td>0</td>\n",
       "      <td>Graduate</td>\n",
       "      <td>Yes</td>\n",
       "      <td>4583</td>\n",
       "      <td>0.0</td>\n",
       "      <td>133.0</td>\n",
       "      <td>360.0</td>\n",
       "      <td>0.0</td>\n",
       "      <td>Semiurban</td>\n",
       "      <td>N</td>\n",
       "    </tr>\n",
       "  </tbody>\n",
       "</table>\n",
       "<p>614 rows × 13 columns</p>\n",
       "</div>"
      ],
      "text/plain": [
       "      Loan_ID  Gender Married Dependents     Education Self_Employed  \\\n",
       "0    LP001002    Male      No          0      Graduate            No   \n",
       "1    LP001003    Male     Yes          1      Graduate            No   \n",
       "2    LP001005    Male     Yes          0      Graduate           Yes   \n",
       "3    LP001006    Male     Yes          0  Not Graduate            No   \n",
       "4    LP001008    Male      No          0      Graduate            No   \n",
       "..        ...     ...     ...        ...           ...           ...   \n",
       "609  LP002978  Female      No          0      Graduate            No   \n",
       "610  LP002979    Male     Yes         3+      Graduate            No   \n",
       "611  LP002983    Male     Yes          1      Graduate            No   \n",
       "612  LP002984    Male     Yes          2      Graduate            No   \n",
       "613  LP002990  Female      No          0      Graduate           Yes   \n",
       "\n",
       "     ApplicantIncome  CoapplicantIncome  LoanAmount  Loan_Amount_Term  \\\n",
       "0               5849                0.0       128.0             360.0   \n",
       "1               4583             1508.0       128.0             360.0   \n",
       "2               3000                0.0        66.0             360.0   \n",
       "3               2583             2358.0       120.0             360.0   \n",
       "4               6000                0.0       141.0             360.0   \n",
       "..               ...                ...         ...               ...   \n",
       "609             2900                0.0        71.0             360.0   \n",
       "610             4106                0.0        40.0             180.0   \n",
       "611             8072              240.0       253.0             360.0   \n",
       "612             7583                0.0       187.0             360.0   \n",
       "613             4583                0.0       133.0             360.0   \n",
       "\n",
       "     Credit_History Property_Area Loan_Status  \n",
       "0               1.0         Urban           Y  \n",
       "1               1.0         Rural           N  \n",
       "2               1.0         Urban           Y  \n",
       "3               1.0         Urban           Y  \n",
       "4               1.0         Urban           Y  \n",
       "..              ...           ...         ...  \n",
       "609             1.0         Rural           Y  \n",
       "610             1.0         Rural           Y  \n",
       "611             1.0         Urban           Y  \n",
       "612             1.0         Urban           Y  \n",
       "613             0.0     Semiurban           N  \n",
       "\n",
       "[614 rows x 13 columns]"
      ]
     },
     "execution_count": 13,
     "metadata": {},
     "output_type": "execute_result"
    }
   ],
   "source": [
    "df"
   ]
  },
  {
   "cell_type": "code",
   "execution_count": 14,
   "id": "53a4cb5c",
   "metadata": {},
   "outputs": [
    {
     "name": "stdout",
     "output_type": "stream",
     "text": [
      "<class 'pandas.core.frame.DataFrame'>\n",
      "RangeIndex: 614 entries, 0 to 613\n",
      "Data columns (total 13 columns):\n",
      " #   Column             Non-Null Count  Dtype  \n",
      "---  ------             --------------  -----  \n",
      " 0   Loan_ID            614 non-null    object \n",
      " 1   Gender             614 non-null    object \n",
      " 2   Married            614 non-null    object \n",
      " 3   Dependents         614 non-null    object \n",
      " 4   Education          614 non-null    object \n",
      " 5   Self_Employed      614 non-null    object \n",
      " 6   ApplicantIncome    614 non-null    int64  \n",
      " 7   CoapplicantIncome  614 non-null    float64\n",
      " 8   LoanAmount         614 non-null    float64\n",
      " 9   Loan_Amount_Term   614 non-null    float64\n",
      " 10  Credit_History     614 non-null    float64\n",
      " 11  Property_Area      614 non-null    object \n",
      " 12  Loan_Status        614 non-null    object \n",
      "dtypes: float64(4), int64(1), object(8)\n",
      "memory usage: 62.5+ KB\n"
     ]
    }
   ],
   "source": [
    "df.info()"
   ]
  },
  {
   "cell_type": "code",
   "execution_count": 15,
   "id": "db66b7b0",
   "metadata": {},
   "outputs": [],
   "source": [
    "# There are no null values present now."
   ]
  },
  {
   "cell_type": "code",
   "execution_count": 16,
   "id": "927272b0",
   "metadata": {},
   "outputs": [
    {
     "data": {
      "text/html": [
       "<div>\n",
       "<style scoped>\n",
       "    .dataframe tbody tr th:only-of-type {\n",
       "        vertical-align: middle;\n",
       "    }\n",
       "\n",
       "    .dataframe tbody tr th {\n",
       "        vertical-align: top;\n",
       "    }\n",
       "\n",
       "    .dataframe thead th {\n",
       "        text-align: right;\n",
       "    }\n",
       "</style>\n",
       "<table border=\"1\" class=\"dataframe\">\n",
       "  <thead>\n",
       "    <tr style=\"text-align: right;\">\n",
       "      <th></th>\n",
       "      <th>ApplicantIncome</th>\n",
       "      <th>CoapplicantIncome</th>\n",
       "      <th>LoanAmount</th>\n",
       "      <th>Loan_Amount_Term</th>\n",
       "      <th>Credit_History</th>\n",
       "    </tr>\n",
       "  </thead>\n",
       "  <tbody>\n",
       "    <tr>\n",
       "      <th>count</th>\n",
       "      <td>614.000000</td>\n",
       "      <td>614.000000</td>\n",
       "      <td>614.000000</td>\n",
       "      <td>614.000000</td>\n",
       "      <td>614.000000</td>\n",
       "    </tr>\n",
       "    <tr>\n",
       "      <th>mean</th>\n",
       "      <td>5403.459283</td>\n",
       "      <td>1621.245798</td>\n",
       "      <td>145.752443</td>\n",
       "      <td>342.410423</td>\n",
       "      <td>0.855049</td>\n",
       "    </tr>\n",
       "    <tr>\n",
       "      <th>std</th>\n",
       "      <td>6109.041673</td>\n",
       "      <td>2926.248369</td>\n",
       "      <td>84.107233</td>\n",
       "      <td>64.428629</td>\n",
       "      <td>0.352339</td>\n",
       "    </tr>\n",
       "    <tr>\n",
       "      <th>min</th>\n",
       "      <td>150.000000</td>\n",
       "      <td>0.000000</td>\n",
       "      <td>9.000000</td>\n",
       "      <td>12.000000</td>\n",
       "      <td>0.000000</td>\n",
       "    </tr>\n",
       "    <tr>\n",
       "      <th>25%</th>\n",
       "      <td>2877.500000</td>\n",
       "      <td>0.000000</td>\n",
       "      <td>100.250000</td>\n",
       "      <td>360.000000</td>\n",
       "      <td>1.000000</td>\n",
       "    </tr>\n",
       "    <tr>\n",
       "      <th>50%</th>\n",
       "      <td>3812.500000</td>\n",
       "      <td>1188.500000</td>\n",
       "      <td>128.000000</td>\n",
       "      <td>360.000000</td>\n",
       "      <td>1.000000</td>\n",
       "    </tr>\n",
       "    <tr>\n",
       "      <th>75%</th>\n",
       "      <td>5795.000000</td>\n",
       "      <td>2297.250000</td>\n",
       "      <td>164.750000</td>\n",
       "      <td>360.000000</td>\n",
       "      <td>1.000000</td>\n",
       "    </tr>\n",
       "    <tr>\n",
       "      <th>max</th>\n",
       "      <td>81000.000000</td>\n",
       "      <td>41667.000000</td>\n",
       "      <td>700.000000</td>\n",
       "      <td>480.000000</td>\n",
       "      <td>1.000000</td>\n",
       "    </tr>\n",
       "  </tbody>\n",
       "</table>\n",
       "</div>"
      ],
      "text/plain": [
       "       ApplicantIncome  CoapplicantIncome  LoanAmount  Loan_Amount_Term  \\\n",
       "count       614.000000         614.000000  614.000000        614.000000   \n",
       "mean       5403.459283        1621.245798  145.752443        342.410423   \n",
       "std        6109.041673        2926.248369   84.107233         64.428629   \n",
       "min         150.000000           0.000000    9.000000         12.000000   \n",
       "25%        2877.500000           0.000000  100.250000        360.000000   \n",
       "50%        3812.500000        1188.500000  128.000000        360.000000   \n",
       "75%        5795.000000        2297.250000  164.750000        360.000000   \n",
       "max       81000.000000       41667.000000  700.000000        480.000000   \n",
       "\n",
       "       Credit_History  \n",
       "count      614.000000  \n",
       "mean         0.855049  \n",
       "std          0.352339  \n",
       "min          0.000000  \n",
       "25%          1.000000  \n",
       "50%          1.000000  \n",
       "75%          1.000000  \n",
       "max          1.000000  "
      ]
     },
     "execution_count": 16,
     "metadata": {},
     "output_type": "execute_result"
    }
   ],
   "source": [
    "df.describe()"
   ]
  },
  {
   "cell_type": "code",
   "execution_count": 17,
   "id": "6e09448d",
   "metadata": {},
   "outputs": [
    {
     "data": {
      "text/html": [
       "<div>\n",
       "<style scoped>\n",
       "    .dataframe tbody tr th:only-of-type {\n",
       "        vertical-align: middle;\n",
       "    }\n",
       "\n",
       "    .dataframe tbody tr th {\n",
       "        vertical-align: top;\n",
       "    }\n",
       "\n",
       "    .dataframe thead th {\n",
       "        text-align: right;\n",
       "    }\n",
       "</style>\n",
       "<table border=\"1\" class=\"dataframe\">\n",
       "  <thead>\n",
       "    <tr style=\"text-align: right;\">\n",
       "      <th></th>\n",
       "      <th>ApplicantIncome</th>\n",
       "      <th>CoapplicantIncome</th>\n",
       "      <th>LoanAmount</th>\n",
       "      <th>Loan_Amount_Term</th>\n",
       "      <th>Credit_History</th>\n",
       "    </tr>\n",
       "  </thead>\n",
       "  <tbody>\n",
       "    <tr>\n",
       "      <th>ApplicantIncome</th>\n",
       "      <td>1.000000</td>\n",
       "      <td>-0.116605</td>\n",
       "      <td>0.565181</td>\n",
       "      <td>-0.046531</td>\n",
       "      <td>-0.018615</td>\n",
       "    </tr>\n",
       "    <tr>\n",
       "      <th>CoapplicantIncome</th>\n",
       "      <td>-0.116605</td>\n",
       "      <td>1.000000</td>\n",
       "      <td>0.189218</td>\n",
       "      <td>-0.059383</td>\n",
       "      <td>0.011134</td>\n",
       "    </tr>\n",
       "    <tr>\n",
       "      <th>LoanAmount</th>\n",
       "      <td>0.565181</td>\n",
       "      <td>0.189218</td>\n",
       "      <td>1.000000</td>\n",
       "      <td>0.036960</td>\n",
       "      <td>-0.000607</td>\n",
       "    </tr>\n",
       "    <tr>\n",
       "      <th>Loan_Amount_Term</th>\n",
       "      <td>-0.046531</td>\n",
       "      <td>-0.059383</td>\n",
       "      <td>0.036960</td>\n",
       "      <td>1.000000</td>\n",
       "      <td>-0.004705</td>\n",
       "    </tr>\n",
       "    <tr>\n",
       "      <th>Credit_History</th>\n",
       "      <td>-0.018615</td>\n",
       "      <td>0.011134</td>\n",
       "      <td>-0.000607</td>\n",
       "      <td>-0.004705</td>\n",
       "      <td>1.000000</td>\n",
       "    </tr>\n",
       "  </tbody>\n",
       "</table>\n",
       "</div>"
      ],
      "text/plain": [
       "                   ApplicantIncome  CoapplicantIncome  LoanAmount  \\\n",
       "ApplicantIncome           1.000000          -0.116605    0.565181   \n",
       "CoapplicantIncome        -0.116605           1.000000    0.189218   \n",
       "LoanAmount                0.565181           0.189218    1.000000   \n",
       "Loan_Amount_Term         -0.046531          -0.059383    0.036960   \n",
       "Credit_History           -0.018615           0.011134   -0.000607   \n",
       "\n",
       "                   Loan_Amount_Term  Credit_History  \n",
       "ApplicantIncome           -0.046531       -0.018615  \n",
       "CoapplicantIncome         -0.059383        0.011134  \n",
       "LoanAmount                 0.036960       -0.000607  \n",
       "Loan_Amount_Term           1.000000       -0.004705  \n",
       "Credit_History            -0.004705        1.000000  "
      ]
     },
     "execution_count": 17,
     "metadata": {},
     "output_type": "execute_result"
    }
   ],
   "source": [
    "df.corr()"
   ]
  },
  {
   "cell_type": "code",
   "execution_count": 18,
   "id": "3c4c9e66",
   "metadata": {},
   "outputs": [
    {
     "data": {
      "text/plain": [
       "Loan_ID              614\n",
       "Gender                 2\n",
       "Married                2\n",
       "Dependents             4\n",
       "Education              2\n",
       "Self_Employed          2\n",
       "ApplicantIncome      505\n",
       "CoapplicantIncome    287\n",
       "LoanAmount           203\n",
       "Loan_Amount_Term      10\n",
       "Credit_History         2\n",
       "Property_Area          3\n",
       "Loan_Status            2\n",
       "dtype: int64"
      ]
     },
     "execution_count": 18,
     "metadata": {},
     "output_type": "execute_result"
    }
   ],
   "source": [
    "df.nunique()"
   ]
  },
  {
   "cell_type": "code",
   "execution_count": 19,
   "id": "c379a68b",
   "metadata": {},
   "outputs": [
    {
     "name": "stdout",
     "output_type": "stream",
     "text": [
      "<class 'pandas.core.frame.DataFrame'>\n",
      "RangeIndex: 614 entries, 0 to 613\n",
      "Data columns (total 13 columns):\n",
      " #   Column             Non-Null Count  Dtype  \n",
      "---  ------             --------------  -----  \n",
      " 0   Loan_ID            614 non-null    object \n",
      " 1   Gender             614 non-null    object \n",
      " 2   Married            614 non-null    object \n",
      " 3   Dependents         614 non-null    object \n",
      " 4   Education          614 non-null    object \n",
      " 5   Self_Employed      614 non-null    object \n",
      " 6   ApplicantIncome    614 non-null    int64  \n",
      " 7   CoapplicantIncome  614 non-null    float64\n",
      " 8   LoanAmount         614 non-null    float64\n",
      " 9   Loan_Amount_Term   614 non-null    float64\n",
      " 10  Credit_History     614 non-null    float64\n",
      " 11  Property_Area      614 non-null    object \n",
      " 12  Loan_Status        614 non-null    object \n",
      "dtypes: float64(4), int64(1), object(8)\n",
      "memory usage: 62.5+ KB\n"
     ]
    }
   ],
   "source": [
    "df.info()"
   ]
  },
  {
   "cell_type": "code",
   "execution_count": 20,
   "id": "17f0e32f",
   "metadata": {},
   "outputs": [],
   "source": [
    "# the column 'Loan_ID' refer to the unique identifier of the applicant's affirmed purchases, it will not contribute in building  the model, so we will remove it."
   ]
  },
  {
   "cell_type": "code",
   "execution_count": 21,
   "id": "e41aa8c3",
   "metadata": {},
   "outputs": [],
   "source": [
    "df=df.drop(columns=['Loan_ID'])"
   ]
  },
  {
   "cell_type": "code",
   "execution_count": 22,
   "id": "0a10e83c",
   "metadata": {
    "scrolled": false
   },
   "outputs": [
    {
     "data": {
      "text/html": [
       "<div>\n",
       "<style scoped>\n",
       "    .dataframe tbody tr th:only-of-type {\n",
       "        vertical-align: middle;\n",
       "    }\n",
       "\n",
       "    .dataframe tbody tr th {\n",
       "        vertical-align: top;\n",
       "    }\n",
       "\n",
       "    .dataframe thead th {\n",
       "        text-align: right;\n",
       "    }\n",
       "</style>\n",
       "<table border=\"1\" class=\"dataframe\">\n",
       "  <thead>\n",
       "    <tr style=\"text-align: right;\">\n",
       "      <th></th>\n",
       "      <th>Gender</th>\n",
       "      <th>Married</th>\n",
       "      <th>Dependents</th>\n",
       "      <th>Education</th>\n",
       "      <th>Self_Employed</th>\n",
       "      <th>ApplicantIncome</th>\n",
       "      <th>CoapplicantIncome</th>\n",
       "      <th>LoanAmount</th>\n",
       "      <th>Loan_Amount_Term</th>\n",
       "      <th>Credit_History</th>\n",
       "      <th>Property_Area</th>\n",
       "      <th>Loan_Status</th>\n",
       "    </tr>\n",
       "  </thead>\n",
       "  <tbody>\n",
       "    <tr>\n",
       "      <th>0</th>\n",
       "      <td>Male</td>\n",
       "      <td>No</td>\n",
       "      <td>0</td>\n",
       "      <td>Graduate</td>\n",
       "      <td>No</td>\n",
       "      <td>5849</td>\n",
       "      <td>0.0</td>\n",
       "      <td>128.0</td>\n",
       "      <td>360.0</td>\n",
       "      <td>1.0</td>\n",
       "      <td>Urban</td>\n",
       "      <td>Y</td>\n",
       "    </tr>\n",
       "    <tr>\n",
       "      <th>1</th>\n",
       "      <td>Male</td>\n",
       "      <td>Yes</td>\n",
       "      <td>1</td>\n",
       "      <td>Graduate</td>\n",
       "      <td>No</td>\n",
       "      <td>4583</td>\n",
       "      <td>1508.0</td>\n",
       "      <td>128.0</td>\n",
       "      <td>360.0</td>\n",
       "      <td>1.0</td>\n",
       "      <td>Rural</td>\n",
       "      <td>N</td>\n",
       "    </tr>\n",
       "    <tr>\n",
       "      <th>2</th>\n",
       "      <td>Male</td>\n",
       "      <td>Yes</td>\n",
       "      <td>0</td>\n",
       "      <td>Graduate</td>\n",
       "      <td>Yes</td>\n",
       "      <td>3000</td>\n",
       "      <td>0.0</td>\n",
       "      <td>66.0</td>\n",
       "      <td>360.0</td>\n",
       "      <td>1.0</td>\n",
       "      <td>Urban</td>\n",
       "      <td>Y</td>\n",
       "    </tr>\n",
       "    <tr>\n",
       "      <th>3</th>\n",
       "      <td>Male</td>\n",
       "      <td>Yes</td>\n",
       "      <td>0</td>\n",
       "      <td>Not Graduate</td>\n",
       "      <td>No</td>\n",
       "      <td>2583</td>\n",
       "      <td>2358.0</td>\n",
       "      <td>120.0</td>\n",
       "      <td>360.0</td>\n",
       "      <td>1.0</td>\n",
       "      <td>Urban</td>\n",
       "      <td>Y</td>\n",
       "    </tr>\n",
       "    <tr>\n",
       "      <th>4</th>\n",
       "      <td>Male</td>\n",
       "      <td>No</td>\n",
       "      <td>0</td>\n",
       "      <td>Graduate</td>\n",
       "      <td>No</td>\n",
       "      <td>6000</td>\n",
       "      <td>0.0</td>\n",
       "      <td>141.0</td>\n",
       "      <td>360.0</td>\n",
       "      <td>1.0</td>\n",
       "      <td>Urban</td>\n",
       "      <td>Y</td>\n",
       "    </tr>\n",
       "    <tr>\n",
       "      <th>...</th>\n",
       "      <td>...</td>\n",
       "      <td>...</td>\n",
       "      <td>...</td>\n",
       "      <td>...</td>\n",
       "      <td>...</td>\n",
       "      <td>...</td>\n",
       "      <td>...</td>\n",
       "      <td>...</td>\n",
       "      <td>...</td>\n",
       "      <td>...</td>\n",
       "      <td>...</td>\n",
       "      <td>...</td>\n",
       "    </tr>\n",
       "    <tr>\n",
       "      <th>609</th>\n",
       "      <td>Female</td>\n",
       "      <td>No</td>\n",
       "      <td>0</td>\n",
       "      <td>Graduate</td>\n",
       "      <td>No</td>\n",
       "      <td>2900</td>\n",
       "      <td>0.0</td>\n",
       "      <td>71.0</td>\n",
       "      <td>360.0</td>\n",
       "      <td>1.0</td>\n",
       "      <td>Rural</td>\n",
       "      <td>Y</td>\n",
       "    </tr>\n",
       "    <tr>\n",
       "      <th>610</th>\n",
       "      <td>Male</td>\n",
       "      <td>Yes</td>\n",
       "      <td>3+</td>\n",
       "      <td>Graduate</td>\n",
       "      <td>No</td>\n",
       "      <td>4106</td>\n",
       "      <td>0.0</td>\n",
       "      <td>40.0</td>\n",
       "      <td>180.0</td>\n",
       "      <td>1.0</td>\n",
       "      <td>Rural</td>\n",
       "      <td>Y</td>\n",
       "    </tr>\n",
       "    <tr>\n",
       "      <th>611</th>\n",
       "      <td>Male</td>\n",
       "      <td>Yes</td>\n",
       "      <td>1</td>\n",
       "      <td>Graduate</td>\n",
       "      <td>No</td>\n",
       "      <td>8072</td>\n",
       "      <td>240.0</td>\n",
       "      <td>253.0</td>\n",
       "      <td>360.0</td>\n",
       "      <td>1.0</td>\n",
       "      <td>Urban</td>\n",
       "      <td>Y</td>\n",
       "    </tr>\n",
       "    <tr>\n",
       "      <th>612</th>\n",
       "      <td>Male</td>\n",
       "      <td>Yes</td>\n",
       "      <td>2</td>\n",
       "      <td>Graduate</td>\n",
       "      <td>No</td>\n",
       "      <td>7583</td>\n",
       "      <td>0.0</td>\n",
       "      <td>187.0</td>\n",
       "      <td>360.0</td>\n",
       "      <td>1.0</td>\n",
       "      <td>Urban</td>\n",
       "      <td>Y</td>\n",
       "    </tr>\n",
       "    <tr>\n",
       "      <th>613</th>\n",
       "      <td>Female</td>\n",
       "      <td>No</td>\n",
       "      <td>0</td>\n",
       "      <td>Graduate</td>\n",
       "      <td>Yes</td>\n",
       "      <td>4583</td>\n",
       "      <td>0.0</td>\n",
       "      <td>133.0</td>\n",
       "      <td>360.0</td>\n",
       "      <td>0.0</td>\n",
       "      <td>Semiurban</td>\n",
       "      <td>N</td>\n",
       "    </tr>\n",
       "  </tbody>\n",
       "</table>\n",
       "<p>614 rows × 12 columns</p>\n",
       "</div>"
      ],
      "text/plain": [
       "     Gender Married Dependents     Education Self_Employed  ApplicantIncome  \\\n",
       "0      Male      No          0      Graduate            No             5849   \n",
       "1      Male     Yes          1      Graduate            No             4583   \n",
       "2      Male     Yes          0      Graduate           Yes             3000   \n",
       "3      Male     Yes          0  Not Graduate            No             2583   \n",
       "4      Male      No          0      Graduate            No             6000   \n",
       "..      ...     ...        ...           ...           ...              ...   \n",
       "609  Female      No          0      Graduate            No             2900   \n",
       "610    Male     Yes         3+      Graduate            No             4106   \n",
       "611    Male     Yes          1      Graduate            No             8072   \n",
       "612    Male     Yes          2      Graduate            No             7583   \n",
       "613  Female      No          0      Graduate           Yes             4583   \n",
       "\n",
       "     CoapplicantIncome  LoanAmount  Loan_Amount_Term  Credit_History  \\\n",
       "0                  0.0       128.0             360.0             1.0   \n",
       "1               1508.0       128.0             360.0             1.0   \n",
       "2                  0.0        66.0             360.0             1.0   \n",
       "3               2358.0       120.0             360.0             1.0   \n",
       "4                  0.0       141.0             360.0             1.0   \n",
       "..                 ...         ...               ...             ...   \n",
       "609                0.0        71.0             360.0             1.0   \n",
       "610                0.0        40.0             180.0             1.0   \n",
       "611              240.0       253.0             360.0             1.0   \n",
       "612                0.0       187.0             360.0             1.0   \n",
       "613                0.0       133.0             360.0             0.0   \n",
       "\n",
       "    Property_Area Loan_Status  \n",
       "0           Urban           Y  \n",
       "1           Rural           N  \n",
       "2           Urban           Y  \n",
       "3           Urban           Y  \n",
       "4           Urban           Y  \n",
       "..            ...         ...  \n",
       "609         Rural           Y  \n",
       "610         Rural           Y  \n",
       "611         Urban           Y  \n",
       "612         Urban           Y  \n",
       "613     Semiurban           N  \n",
       "\n",
       "[614 rows x 12 columns]"
      ]
     },
     "execution_count": 22,
     "metadata": {},
     "output_type": "execute_result"
    }
   ],
   "source": [
    "df"
   ]
  },
  {
   "cell_type": "code",
   "execution_count": 23,
   "id": "623f8d09",
   "metadata": {},
   "outputs": [],
   "source": [
    "# Columns 'Loan_Status' is our target variable."
   ]
  },
  {
   "cell_type": "markdown",
   "id": "012cba38",
   "metadata": {},
   "source": [
    "# Data Visualisation."
   ]
  },
  {
   "cell_type": "code",
   "execution_count": 24,
   "id": "283bc7ba",
   "metadata": {},
   "outputs": [
    {
     "name": "stdout",
     "output_type": "stream",
     "text": [
      "Male      502\n",
      "Female    112\n",
      "Name: Gender, dtype: int64\n"
     ]
    },
    {
     "data": {
      "image/png": "[encoded data removed]",
      "text/plain": [
       "<Figure size 432x288 with 1 Axes>"
      ]
     },
     "metadata": {
      "needs_background": "light"
     },
     "output_type": "display_data"
    }
   ],
   "source": [
    "s=sns.countplot(x='Gender',data=df)\n",
    "print(df['Gender'].value_counts())"
   ]
  },
  {
   "cell_type": "code",
   "execution_count": 25,
   "id": "5c95b48f",
   "metadata": {},
   "outputs": [],
   "source": [
    "# The no. of male in the dataset are higher as compared to that of female"
   ]
  },
  {
   "cell_type": "code",
   "execution_count": 26,
   "id": "60e7babd",
   "metadata": {},
   "outputs": [
    {
     "data": {
      "image/png": "[encoded data removed]",
      "text/plain": [
       "<Figure size 432x288 with 1 Axes>"
      ]
     },
     "metadata": {
      "needs_background": "light"
     },
     "output_type": "display_data"
    }
   ],
   "source": [
    " chart = sns.countplot(x='Gender',data=df,hue='Loan_Status')"
   ]
  },
  {
   "cell_type": "code",
   "execution_count": 27,
   "id": "e96c8b2b",
   "metadata": {},
   "outputs": [
    {
     "name": "stdout",
     "output_type": "stream",
     "text": [
      "Yes    401\n",
      "No     213\n",
      "Name: Married, dtype: int64\n"
     ]
    },
    {
     "data": {
      "image/png": "[encoded data removed]",
      "text/plain": [
       "<Figure size 432x288 with 1 Axes>"
      ]
     },
     "metadata": {
      "needs_background": "light"
     },
     "output_type": "display_data"
    }
   ],
   "source": [
    "s=sns.countplot(x='Married',data=df)\n",
    "print(df['Married'].value_counts())\n"
   ]
  },
  {
   "cell_type": "code",
   "execution_count": 28,
   "id": "0a859992",
   "metadata": {},
   "outputs": [],
   "source": [
    "# the no. of married people are more."
   ]
  },
  {
   "cell_type": "code",
   "execution_count": 29,
   "id": "d8f3269f",
   "metadata": {},
   "outputs": [
    {
     "data": {
      "image/png": "[encoded data removed]",
      "text/plain": [
       "<Figure size 432x288 with 1 Axes>"
      ]
     },
     "metadata": {
      "needs_background": "light"
     },
     "output_type": "display_data"
    }
   ],
   "source": [
    " chart = sns.countplot(x='Married',data=df,hue='Loan_Status')"
   ]
  },
  {
   "cell_type": "code",
   "execution_count": 30,
   "id": "a5a68cf3",
   "metadata": {},
   "outputs": [
    {
     "name": "stdout",
     "output_type": "stream",
     "text": [
      "0     360\n",
      "1     102\n",
      "2     101\n",
      "3+     51\n",
      "Name: Dependents, dtype: int64\n"
     ]
    },
    {
     "data": {
      "image/png": "[encoded data removed]",
      "text/plain": [
       "<Figure size 432x288 with 1 Axes>"
      ]
     },
     "metadata": {
      "needs_background": "light"
     },
     "output_type": "display_data"
    }
   ],
   "source": [
    "s=sns.countplot(x='Dependents',data=df)\n",
    "print(df['Dependents'].value_counts())\n"
   ]
  },
  {
   "cell_type": "code",
   "execution_count": 31,
   "id": "34dc0a2a",
   "metadata": {},
   "outputs": [],
   "source": [
    "# people with '0' dependents are very high."
   ]
  },
  {
   "cell_type": "code",
   "execution_count": 32,
   "id": "74feab38",
   "metadata": {},
   "outputs": [
    {
     "data": {
      "image/png": "[encoded data removed]",
      "text/plain": [
       "<Figure size 432x288 with 1 Axes>"
      ]
     },
     "metadata": {
      "needs_background": "light"
     },
     "output_type": "display_data"
    }
   ],
   "source": [
    " chart = sns.countplot(x='Dependents',data=df,hue='Loan_Status')"
   ]
  },
  {
   "cell_type": "code",
   "execution_count": 33,
   "id": "5d2ce65c",
   "metadata": {},
   "outputs": [
    {
     "name": "stdout",
     "output_type": "stream",
     "text": [
      "Graduate        480\n",
      "Not Graduate    134\n",
      "Name: Education, dtype: int64\n"
     ]
    },
    {
     "data": {
      "image/png": "[encoded data removed]",
      "text/plain": [
       "<Figure size 432x288 with 1 Axes>"
      ]
     },
     "metadata": {
      "needs_background": "light"
     },
     "output_type": "display_data"
    }
   ],
   "source": [
    "s=sns.countplot(x='Education',data=df)\n",
    "print(df['Education'].value_counts())\n"
   ]
  },
  {
   "cell_type": "code",
   "execution_count": 34,
   "id": "c209ff27",
   "metadata": {},
   "outputs": [
    {
     "data": {
      "image/png": "[encoded data removed]",
      "text/plain": [
       "<Figure size 432x288 with 1 Axes>"
      ]
     },
     "metadata": {
      "needs_background": "light"
     },
     "output_type": "display_data"
    }
   ],
   "source": [
    " chart = sns.countplot(x='Education',data=df,hue='Loan_Status')"
   ]
  },
  {
   "cell_type": "code",
   "execution_count": 35,
   "id": "1ee2f31f",
   "metadata": {},
   "outputs": [],
   "source": [
    "# graduated people are more likely to get loan."
   ]
  },
  {
   "cell_type": "code",
   "execution_count": 36,
   "id": "7c430a20",
   "metadata": {},
   "outputs": [
    {
     "name": "stdout",
     "output_type": "stream",
     "text": [
      "No     532\n",
      "Yes     82\n",
      "Name: Self_Employed, dtype: int64\n"
     ]
    },
    {
     "data": {
      "image/png": "[encoded data removed]",
      "text/plain": [
       "<Figure size 432x288 with 1 Axes>"
      ]
     },
     "metadata": {
      "needs_background": "light"
     },
     "output_type": "display_data"
    }
   ],
   "source": [
    "s=sns.countplot(x='Self_Employed',data=df)\n",
    "print(df['Self_Employed'].value_counts())\n"
   ]
  },
  {
   "cell_type": "code",
   "execution_count": 37,
   "id": "93d75a5b",
   "metadata": {},
   "outputs": [],
   "source": [
    "# the total no. self employed people are very less."
   ]
  },
  {
   "cell_type": "code",
   "execution_count": 38,
   "id": "b6b9a3c3",
   "metadata": {},
   "outputs": [
    {
     "data": {
      "image/png": "[encoded data removed]",
      "text/plain": [
       "<Figure size 432x288 with 1 Axes>"
      ]
     },
     "metadata": {
      "needs_background": "light"
     },
     "output_type": "display_data"
    }
   ],
   "source": [
    " chart = sns.countplot(x='Self_Employed',data=df,hue='Loan_Status')"
   ]
  },
  {
   "cell_type": "code",
   "execution_count": 39,
   "id": "614481ec",
   "metadata": {},
   "outputs": [
    {
     "name": "stdout",
     "output_type": "stream",
     "text": [
      "Semiurban    233\n",
      "Urban        202\n",
      "Rural        179\n",
      "Name: Property_Area, dtype: int64\n"
     ]
    },
    {
     "data": {
      "image/png": "[encoded data removed]",
      "text/plain": [
       "<Figure size 432x288 with 1 Axes>"
      ]
     },
     "metadata": {
      "needs_background": "light"
     },
     "output_type": "display_data"
    }
   ],
   "source": [
    "s=sns.countplot(x='Property_Area',data=df)\n",
    "print(df['Property_Area'].value_counts())\n"
   ]
  },
  {
   "cell_type": "code",
   "execution_count": 40,
   "id": "1c68ea7d",
   "metadata": {},
   "outputs": [
    {
     "data": {
      "image/png": "[encoded data removed]",
      "text/plain": [
       "<Figure size 432x288 with 1 Axes>"
      ]
     },
     "metadata": {
      "needs_background": "light"
     },
     "output_type": "display_data"
    }
   ],
   "source": [
    " chart = sns.countplot(x='Property_Area',data=df,hue='Loan_Status')"
   ]
  },
  {
   "cell_type": "code",
   "execution_count": 41,
   "id": "03b2c6b6",
   "metadata": {},
   "outputs": [
    {
     "data": {
      "text/plain": [
       "<seaborn.axisgrid.PairGrid at 0x1b60dd55e50>"
      ]
     },
     "execution_count": 41,
     "metadata": {},
     "output_type": "execute_result"
    },
    {
     "data": {
      "image/png": "[encoded data removed]",
      "text/plain": [
       "<Figure size 900x900 with 30 Axes>"
      ]
     },
     "metadata": {
      "needs_background": "light"
     },
     "output_type": "display_data"
    }
   ],
   "source": [
    "sns.pairplot(df)"
   ]
  },
  {
   "cell_type": "code",
   "execution_count": 42,
   "id": "c824af9d",
   "metadata": {},
   "outputs": [],
   "source": [
    "# now let's encode the data."
   ]
  },
  {
   "cell_type": "code",
   "execution_count": 43,
   "id": "3d592c64",
   "metadata": {},
   "outputs": [
    {
     "name": "stdout",
     "output_type": "stream",
     "text": [
      "<class 'pandas.core.frame.DataFrame'>\n",
      "RangeIndex: 614 entries, 0 to 613\n",
      "Data columns (total 12 columns):\n",
      " #   Column             Non-Null Count  Dtype  \n",
      "---  ------             --------------  -----  \n",
      " 0   Gender             614 non-null    object \n",
      " 1   Married            614 non-null    object \n",
      " 2   Dependents         614 non-null    object \n",
      " 3   Education          614 non-null    object \n",
      " 4   Self_Employed      614 non-null    object \n",
      " 5   ApplicantIncome    614 non-null    int64  \n",
      " 6   CoapplicantIncome  614 non-null    float64\n",
      " 7   LoanAmount         614 non-null    float64\n",
      " 8   Loan_Amount_Term   614 non-null    float64\n",
      " 9   Credit_History     614 non-null    float64\n",
      " 10  Property_Area      614 non-null    object \n",
      " 11  Loan_Status        614 non-null    object \n",
      "dtypes: float64(4), int64(1), object(7)\n",
      "memory usage: 57.7+ KB\n"
     ]
    }
   ],
   "source": [
    "df.info()"
   ]
  },
  {
   "cell_type": "code",
   "execution_count": 44,
   "id": "8ae9fbd2",
   "metadata": {},
   "outputs": [
    {
     "data": {
      "text/plain": [
       "Male      502\n",
       "Female    112\n",
       "Name: Gender, dtype: int64"
      ]
     },
     "execution_count": 44,
     "metadata": {},
     "output_type": "execute_result"
    }
   ],
   "source": [
    "df['Gender'].value_counts()"
   ]
  },
  {
   "cell_type": "code",
   "execution_count": 45,
   "id": "01718a4a",
   "metadata": {},
   "outputs": [],
   "source": [
    "df.replace({'Gender':{'Male':0,'Female':1}},inplace=True)"
   ]
  },
  {
   "cell_type": "code",
   "execution_count": 46,
   "id": "d9c6557a",
   "metadata": {},
   "outputs": [
    {
     "data": {
      "text/plain": [
       "0    502\n",
       "1    112\n",
       "Name: Gender, dtype: int64"
      ]
     },
     "execution_count": 46,
     "metadata": {},
     "output_type": "execute_result"
    }
   ],
   "source": [
    "df['Gender'].value_counts()"
   ]
  },
  {
   "cell_type": "code",
   "execution_count": 47,
   "id": "649c9c51",
   "metadata": {},
   "outputs": [
    {
     "data": {
      "text/plain": [
       "Yes    401\n",
       "No     213\n",
       "Name: Married, dtype: int64"
      ]
     },
     "execution_count": 47,
     "metadata": {},
     "output_type": "execute_result"
    }
   ],
   "source": [
    "df['Married'].value_counts()"
   ]
  },
  {
   "cell_type": "code",
   "execution_count": 48,
   "id": "c16d75a9",
   "metadata": {},
   "outputs": [],
   "source": [
    "df.replace({'Married':{'Yes':1,'No':0}},inplace=True)"
   ]
  },
  {
   "cell_type": "code",
   "execution_count": 49,
   "id": "a1ee8414",
   "metadata": {},
   "outputs": [
    {
     "data": {
      "text/plain": [
       "1    401\n",
       "0    213\n",
       "Name: Married, dtype: int64"
      ]
     },
     "execution_count": 49,
     "metadata": {},
     "output_type": "execute_result"
    }
   ],
   "source": [
    "df['Married'].value_counts()"
   ]
  },
  {
   "cell_type": "code",
   "execution_count": 50,
   "id": "ce317b90",
   "metadata": {},
   "outputs": [
    {
     "data": {
      "text/plain": [
       "0     360\n",
       "1     102\n",
       "2     101\n",
       "3+     51\n",
       "Name: Dependents, dtype: int64"
      ]
     },
     "execution_count": 50,
     "metadata": {},
     "output_type": "execute_result"
    }
   ],
   "source": [
    "df['Dependents'].value_counts()"
   ]
  },
  {
   "cell_type": "code",
   "execution_count": 51,
   "id": "afacf04f",
   "metadata": {},
   "outputs": [],
   "source": [
    "df.replace({'Dependents':{'0':0,'1':1,'2':2,'3+':4}},inplace=True)"
   ]
  },
  {
   "cell_type": "code",
   "execution_count": 52,
   "id": "953d958c",
   "metadata": {},
   "outputs": [
    {
     "data": {
      "text/plain": [
       "0    360\n",
       "1    102\n",
       "2    101\n",
       "4     51\n",
       "Name: Dependents, dtype: int64"
      ]
     },
     "execution_count": 52,
     "metadata": {},
     "output_type": "execute_result"
    }
   ],
   "source": [
    "df['Dependents'].value_counts()"
   ]
  },
  {
   "cell_type": "code",
   "execution_count": 53,
   "id": "3dd88620",
   "metadata": {},
   "outputs": [
    {
     "name": "stdout",
     "output_type": "stream",
     "text": [
      "Graduate        480\n",
      "Not Graduate    134\n",
      "Name: Education, dtype: int64\n",
      "\n",
      "==========\n",
      "\n",
      "No     532\n",
      "Yes     82\n",
      "Name: Self_Employed, dtype: int64\n",
      "\n",
      "==========\n",
      "\n",
      "Semiurban    233\n",
      "Urban        202\n",
      "Rural        179\n",
      "Name: Property_Area, dtype: int64\n"
     ]
    }
   ],
   "source": [
    "print(df['Education'].value_counts())\n",
    "print('\\n==========\\n')\n",
    "print(df['Self_Employed'].value_counts())\n",
    "print('\\n==========\\n')\n",
    "print(df['Property_Area'].value_counts())\n"
   ]
  },
  {
   "cell_type": "code",
   "execution_count": 54,
   "id": "f85e1a86",
   "metadata": {},
   "outputs": [],
   "source": [
    "df.replace({'Education':{'Graduate':1,'Not Graduate':0}},inplace=True)\n",
    "df.replace({'Self_Employed':{'No':0,'Yes':1}},inplace=True)\n",
    "df.replace({'Property_Area':{'Rural':0,'Semiurban':1,'Urban':2}},inplace=True)"
   ]
  },
  {
   "cell_type": "code",
   "execution_count": 55,
   "id": "3733fb28",
   "metadata": {},
   "outputs": [
    {
     "name": "stdout",
     "output_type": "stream",
     "text": [
      "1    480\n",
      "0    134\n",
      "Name: Education, dtype: int64\n",
      "\n",
      "==========\n",
      "\n",
      "0    532\n",
      "1     82\n",
      "Name: Self_Employed, dtype: int64\n",
      "\n",
      "==========\n",
      "\n",
      "1    233\n",
      "2    202\n",
      "0    179\n",
      "Name: Property_Area, dtype: int64\n"
     ]
    }
   ],
   "source": [
    "print(df['Education'].value_counts())\n",
    "print('\\n==========\\n')\n",
    "print(df['Self_Employed'].value_counts())\n",
    "print('\\n==========\\n')\n",
    "print(df['Property_Area'].value_counts())\n"
   ]
  },
  {
   "cell_type": "code",
   "execution_count": 56,
   "id": "7a96b1d3",
   "metadata": {},
   "outputs": [
    {
     "name": "stdout",
     "output_type": "stream",
     "text": [
      "<class 'pandas.core.frame.DataFrame'>\n",
      "RangeIndex: 614 entries, 0 to 613\n",
      "Data columns (total 12 columns):\n",
      " #   Column             Non-Null Count  Dtype  \n",
      "---  ------             --------------  -----  \n",
      " 0   Gender             614 non-null    int64  \n",
      " 1   Married            614 non-null    int64  \n",
      " 2   Dependents         614 non-null    int64  \n",
      " 3   Education          614 non-null    int64  \n",
      " 4   Self_Employed      614 non-null    int64  \n",
      " 5   ApplicantIncome    614 non-null    int64  \n",
      " 6   CoapplicantIncome  614 non-null    float64\n",
      " 7   LoanAmount         614 non-null    float64\n",
      " 8   Loan_Amount_Term   614 non-null    float64\n",
      " 9   Credit_History     614 non-null    float64\n",
      " 10  Property_Area      614 non-null    int64  \n",
      " 11  Loan_Status        614 non-null    object \n",
      "dtypes: float64(4), int64(7), object(1)\n",
      "memory usage: 57.7+ KB\n"
     ]
    }
   ],
   "source": [
    "df.info()"
   ]
  },
  {
   "cell_type": "code",
   "execution_count": 57,
   "id": "17ab177f",
   "metadata": {},
   "outputs": [],
   "source": [
    "# now we will encode our target variable. "
   ]
  },
  {
   "cell_type": "code",
   "execution_count": 58,
   "id": "c17c61b6",
   "metadata": {},
   "outputs": [],
   "source": [
    "from sklearn.preprocessing import LabelEncoder\n",
    "\n",
    "le = LabelEncoder()\n",
    "df['Loan_Status']= le.fit_transform(df['Loan_Status'])\n"
   ]
  },
  {
   "cell_type": "code",
   "execution_count": 59,
   "id": "24dbec3c",
   "metadata": {},
   "outputs": [
    {
     "data": {
      "text/plain": [
       "1    422\n",
       "0    192\n",
       "Name: Loan_Status, dtype: int64"
      ]
     },
     "execution_count": 59,
     "metadata": {},
     "output_type": "execute_result"
    }
   ],
   "source": [
    "df['Loan_Status'].value_counts()"
   ]
  },
  {
   "cell_type": "code",
   "execution_count": 60,
   "id": "340dd244",
   "metadata": {},
   "outputs": [
    {
     "name": "stdout",
     "output_type": "stream",
     "text": [
      "<class 'pandas.core.frame.DataFrame'>\n",
      "RangeIndex: 614 entries, 0 to 613\n",
      "Data columns (total 12 columns):\n",
      " #   Column             Non-Null Count  Dtype  \n",
      "---  ------             --------------  -----  \n",
      " 0   Gender             614 non-null    int64  \n",
      " 1   Married            614 non-null    int64  \n",
      " 2   Dependents         614 non-null    int64  \n",
      " 3   Education          614 non-null    int64  \n",
      " 4   Self_Employed      614 non-null    int64  \n",
      " 5   ApplicantIncome    614 non-null    int64  \n",
      " 6   CoapplicantIncome  614 non-null    float64\n",
      " 7   LoanAmount         614 non-null    float64\n",
      " 8   Loan_Amount_Term   614 non-null    float64\n",
      " 9   Credit_History     614 non-null    float64\n",
      " 10  Property_Area      614 non-null    int64  \n",
      " 11  Loan_Status        614 non-null    int32  \n",
      "dtypes: float64(4), int32(1), int64(7)\n",
      "memory usage: 55.3 KB\n"
     ]
    }
   ],
   "source": [
    "df.info()"
   ]
  },
  {
   "cell_type": "code",
   "execution_count": 61,
   "id": "890f44a5",
   "metadata": {},
   "outputs": [
    {
     "data": {
      "image/png": "[encoded data removed]",
      "text/plain": [
       "<Figure size 1440x1800 with 12 Axes>"
      ]
     },
     "metadata": {},
     "output_type": "display_data"
    }
   ],
   "source": [
    "plt.figure(figsize=(20,25),facecolor='Yellow')\n",
    "pltno=1\n",
    "\n",
    "for c in df:\n",
    "    if pltno<=12:\n",
    "        ax=plt.subplot(3,4,pltno)\n",
    "        sns.distplot(df[c])\n",
    "        plt.xlabel(c,fontsize=15)\n",
    "        \n",
    "    pltno+=1"
   ]
  },
  {
   "cell_type": "code",
   "execution_count": 62,
   "id": "04c8edb6",
   "metadata": {},
   "outputs": [
    {
     "data": {
      "text/plain": [
       "Gender               1.648795\n",
       "Married             -0.644850\n",
       "Dependents           1.456965\n",
       "Education           -1.367622\n",
       "Self_Employed        2.159796\n",
       "ApplicantIncome      6.539513\n",
       "CoapplicantIncome    7.491531\n",
       "LoanAmount           2.743053\n",
       "Loan_Amount_Term    -2.402112\n",
       "Credit_History      -2.021971\n",
       "Property_Area       -0.066196\n",
       "Loan_Status         -0.809998\n",
       "dtype: float64"
      ]
     },
     "execution_count": 62,
     "metadata": {},
     "output_type": "execute_result"
    }
   ],
   "source": [
    "df.skew()"
   ]
  },
  {
   "cell_type": "code",
   "execution_count": 63,
   "id": "8bee01f3",
   "metadata": {},
   "outputs": [],
   "source": [
    "# there  is definitely some skewness present."
   ]
  },
  {
   "cell_type": "code",
   "execution_count": 64,
   "id": "6d18019c",
   "metadata": {},
   "outputs": [
    {
     "data": {
      "text/plain": [
       "<AxesSubplot:>"
      ]
     },
     "execution_count": 64,
     "metadata": {},
     "output_type": "execute_result"
    },
    {
     "data": {
      "image/png": "[encoded data removed]",
      "text/plain": [
       "<Figure size 720x720 with 2 Axes>"
      ]
     },
     "metadata": {
      "needs_background": "light"
     },
     "output_type": "display_data"
    }
   ],
   "source": [
    "plt.figure(figsize=(10,10))\n",
    "sns.heatmap(df.corr(),annot=True)"
   ]
  },
  {
   "cell_type": "code",
   "execution_count": 65,
   "id": "e8d0d056",
   "metadata": {},
   "outputs": [],
   "source": [
    "# Let's check for the outliers also."
   ]
  },
  {
   "cell_type": "code",
   "execution_count": 66,
   "id": "d3ed19a0",
   "metadata": {},
   "outputs": [
    {
     "data": {
      "image/png": "[encoded data removed]",
      "text/plain": [
       "<Figure size 1440x720 with 12 Axes>"
      ]
     },
     "metadata": {},
     "output_type": "display_data"
    }
   ],
   "source": [
    "plt.figure(figsize=(20,10),facecolor='r')\n",
    "pn=1\n",
    "for c in df:\n",
    "    if pn<=12:\n",
    "        ax=plt.subplot(3,4,pn)\n",
    "        sns.boxplot(df[c])\n",
    "        plt.xlabel(c,fontsize=15)\n",
    "    pn+=1"
   ]
  },
  {
   "cell_type": "code",
   "execution_count": 67,
   "id": "b2ae3762",
   "metadata": {},
   "outputs": [],
   "source": [
    "# There are outliers present in the dataset, let's deal with them."
   ]
  },
  {
   "cell_type": "code",
   "execution_count": 68,
   "id": "8e86cb3b",
   "metadata": {},
   "outputs": [
    {
     "data": {
      "text/plain": [
       "(614, 12)"
      ]
     },
     "execution_count": 68,
     "metadata": {},
     "output_type": "execute_result"
    }
   ],
   "source": [
    "from scipy.stats import zscore\n",
    "import numpy as np\n",
    "\n",
    "z=np.abs(zscore(df))\n",
    "\n",
    "z.shape"
   ]
  },
  {
   "cell_type": "code",
   "execution_count": 69,
   "id": "0dc253f3",
   "metadata": {},
   "outputs": [
    {
     "name": "stdout",
     "output_type": "stream",
     "text": [
      "(array([  9,  14,  68,  94, 126, 130, 133, 155, 155, 171, 171, 177, 177,\n",
      "       183, 185, 242, 262, 278, 308, 313, 333, 333, 369, 402, 409, 417,\n",
      "       432, 443, 487, 495, 497, 506, 523, 525, 546, 561, 575, 581, 585,\n",
      "       600, 604], dtype=int64), array([6, 8, 8, 8, 5, 7, 8, 5, 7, 5, 7, 6, 7, 5, 5, 8, 8, 7, 7, 8, 5, 7,\n",
      "       7, 6, 5, 6, 7, 5, 7, 8, 8, 7, 7, 7, 8, 7, 8, 6, 8, 6, 7],\n",
      "      dtype=int64))\n"
     ]
    }
   ],
   "source": [
    "threshold=3\n",
    "print(np.where(z>3))"
   ]
  },
  {
   "cell_type": "code",
   "execution_count": 70,
   "id": "fd659df8",
   "metadata": {},
   "outputs": [
    {
     "data": {
      "text/html": [
       "<div>\n",
       "<style scoped>\n",
       "    .dataframe tbody tr th:only-of-type {\n",
       "        vertical-align: middle;\n",
       "    }\n",
       "\n",
       "    .dataframe tbody tr th {\n",
       "        vertical-align: top;\n",
       "    }\n",
       "\n",
       "    .dataframe thead th {\n",
       "        text-align: right;\n",
       "    }\n",
       "</style>\n",
       "<table border=\"1\" class=\"dataframe\">\n",
       "  <thead>\n",
       "    <tr style=\"text-align: right;\">\n",
       "      <th></th>\n",
       "      <th>Gender</th>\n",
       "      <th>Married</th>\n",
       "      <th>Dependents</th>\n",
       "      <th>Education</th>\n",
       "      <th>Self_Employed</th>\n",
       "      <th>ApplicantIncome</th>\n",
       "      <th>CoapplicantIncome</th>\n",
       "      <th>LoanAmount</th>\n",
       "      <th>Loan_Amount_Term</th>\n",
       "      <th>Credit_History</th>\n",
       "      <th>Property_Area</th>\n",
       "      <th>Loan_Status</th>\n",
       "    </tr>\n",
       "  </thead>\n",
       "  <tbody>\n",
       "    <tr>\n",
       "      <th>0</th>\n",
       "      <td>0</td>\n",
       "      <td>0</td>\n",
       "      <td>0</td>\n",
       "      <td>1</td>\n",
       "      <td>0</td>\n",
       "      <td>5849</td>\n",
       "      <td>0.0</td>\n",
       "      <td>128.0</td>\n",
       "      <td>360.0</td>\n",
       "      <td>1.0</td>\n",
       "      <td>2</td>\n",
       "      <td>1</td>\n",
       "    </tr>\n",
       "    <tr>\n",
       "      <th>1</th>\n",
       "      <td>0</td>\n",
       "      <td>1</td>\n",
       "      <td>1</td>\n",
       "      <td>1</td>\n",
       "      <td>0</td>\n",
       "      <td>4583</td>\n",
       "      <td>1508.0</td>\n",
       "      <td>128.0</td>\n",
       "      <td>360.0</td>\n",
       "      <td>1.0</td>\n",
       "      <td>0</td>\n",
       "      <td>0</td>\n",
       "    </tr>\n",
       "    <tr>\n",
       "      <th>2</th>\n",
       "      <td>0</td>\n",
       "      <td>1</td>\n",
       "      <td>0</td>\n",
       "      <td>1</td>\n",
       "      <td>1</td>\n",
       "      <td>3000</td>\n",
       "      <td>0.0</td>\n",
       "      <td>66.0</td>\n",
       "      <td>360.0</td>\n",
       "      <td>1.0</td>\n",
       "      <td>2</td>\n",
       "      <td>1</td>\n",
       "    </tr>\n",
       "    <tr>\n",
       "      <th>3</th>\n",
       "      <td>0</td>\n",
       "      <td>1</td>\n",
       "      <td>0</td>\n",
       "      <td>0</td>\n",
       "      <td>0</td>\n",
       "      <td>2583</td>\n",
       "      <td>2358.0</td>\n",
       "      <td>120.0</td>\n",
       "      <td>360.0</td>\n",
       "      <td>1.0</td>\n",
       "      <td>2</td>\n",
       "      <td>1</td>\n",
       "    </tr>\n",
       "    <tr>\n",
       "      <th>4</th>\n",
       "      <td>0</td>\n",
       "      <td>0</td>\n",
       "      <td>0</td>\n",
       "      <td>1</td>\n",
       "      <td>0</td>\n",
       "      <td>6000</td>\n",
       "      <td>0.0</td>\n",
       "      <td>141.0</td>\n",
       "      <td>360.0</td>\n",
       "      <td>1.0</td>\n",
       "      <td>2</td>\n",
       "      <td>1</td>\n",
       "    </tr>\n",
       "    <tr>\n",
       "      <th>...</th>\n",
       "      <td>...</td>\n",
       "      <td>...</td>\n",
       "      <td>...</td>\n",
       "      <td>...</td>\n",
       "      <td>...</td>\n",
       "      <td>...</td>\n",
       "      <td>...</td>\n",
       "      <td>...</td>\n",
       "      <td>...</td>\n",
       "      <td>...</td>\n",
       "      <td>...</td>\n",
       "      <td>...</td>\n",
       "    </tr>\n",
       "    <tr>\n",
       "      <th>609</th>\n",
       "      <td>1</td>\n",
       "      <td>0</td>\n",
       "      <td>0</td>\n",
       "      <td>1</td>\n",
       "      <td>0</td>\n",
       "      <td>2900</td>\n",
       "      <td>0.0</td>\n",
       "      <td>71.0</td>\n",
       "      <td>360.0</td>\n",
       "      <td>1.0</td>\n",
       "      <td>0</td>\n",
       "      <td>1</td>\n",
       "    </tr>\n",
       "    <tr>\n",
       "      <th>610</th>\n",
       "      <td>0</td>\n",
       "      <td>1</td>\n",
       "      <td>4</td>\n",
       "      <td>1</td>\n",
       "      <td>0</td>\n",
       "      <td>4106</td>\n",
       "      <td>0.0</td>\n",
       "      <td>40.0</td>\n",
       "      <td>180.0</td>\n",
       "      <td>1.0</td>\n",
       "      <td>0</td>\n",
       "      <td>1</td>\n",
       "    </tr>\n",
       "    <tr>\n",
       "      <th>611</th>\n",
       "      <td>0</td>\n",
       "      <td>1</td>\n",
       "      <td>1</td>\n",
       "      <td>1</td>\n",
       "      <td>0</td>\n",
       "      <td>8072</td>\n",
       "      <td>240.0</td>\n",
       "      <td>253.0</td>\n",
       "      <td>360.0</td>\n",
       "      <td>1.0</td>\n",
       "      <td>2</td>\n",
       "      <td>1</td>\n",
       "    </tr>\n",
       "    <tr>\n",
       "      <th>612</th>\n",
       "      <td>0</td>\n",
       "      <td>1</td>\n",
       "      <td>2</td>\n",
       "      <td>1</td>\n",
       "      <td>0</td>\n",
       "      <td>7583</td>\n",
       "      <td>0.0</td>\n",
       "      <td>187.0</td>\n",
       "      <td>360.0</td>\n",
       "      <td>1.0</td>\n",
       "      <td>2</td>\n",
       "      <td>1</td>\n",
       "    </tr>\n",
       "    <tr>\n",
       "      <th>613</th>\n",
       "      <td>1</td>\n",
       "      <td>0</td>\n",
       "      <td>0</td>\n",
       "      <td>1</td>\n",
       "      <td>1</td>\n",
       "      <td>4583</td>\n",
       "      <td>0.0</td>\n",
       "      <td>133.0</td>\n",
       "      <td>360.0</td>\n",
       "      <td>0.0</td>\n",
       "      <td>1</td>\n",
       "      <td>0</td>\n",
       "    </tr>\n",
       "  </tbody>\n",
       "</table>\n",
       "<p>577 rows × 12 columns</p>\n",
       "</div>"
      ],
      "text/plain": [
       "     Gender  Married  Dependents  Education  Self_Employed  ApplicantIncome  \\\n",
       "0         0        0           0          1              0             5849   \n",
       "1         0        1           1          1              0             4583   \n",
       "2         0        1           0          1              1             3000   \n",
       "3         0        1           0          0              0             2583   \n",
       "4         0        0           0          1              0             6000   \n",
       "..      ...      ...         ...        ...            ...              ...   \n",
       "609       1        0           0          1              0             2900   \n",
       "610       0        1           4          1              0             4106   \n",
       "611       0        1           1          1              0             8072   \n",
       "612       0        1           2          1              0             7583   \n",
       "613       1        0           0          1              1             4583   \n",
       "\n",
       "     CoapplicantIncome  LoanAmount  Loan_Amount_Term  Credit_History  \\\n",
       "0                  0.0       128.0             360.0             1.0   \n",
       "1               1508.0       128.0             360.0             1.0   \n",
       "2                  0.0        66.0             360.0             1.0   \n",
       "3               2358.0       120.0             360.0             1.0   \n",
       "4                  0.0       141.0             360.0             1.0   \n",
       "..                 ...         ...               ...             ...   \n",
       "609                0.0        71.0             360.0             1.0   \n",
       "610                0.0        40.0             180.0             1.0   \n",
       "611              240.0       253.0             360.0             1.0   \n",
       "612                0.0       187.0             360.0             1.0   \n",
       "613                0.0       133.0             360.0             0.0   \n",
       "\n",
       "     Property_Area  Loan_Status  \n",
       "0                2            1  \n",
       "1                0            0  \n",
       "2                2            1  \n",
       "3                2            1  \n",
       "4                2            1  \n",
       "..             ...          ...  \n",
       "609              0            1  \n",
       "610              0            1  \n",
       "611              2            1  \n",
       "612              2            1  \n",
       "613              1            0  \n",
       "\n",
       "[577 rows x 12 columns]"
      ]
     },
     "execution_count": 70,
     "metadata": {},
     "output_type": "execute_result"
    }
   ],
   "source": [
    " df1=df[(z<3).all(axis=1)]\n",
    "df1"
   ]
  },
  {
   "cell_type": "code",
   "execution_count": 71,
   "id": "4d500600",
   "metadata": {},
   "outputs": [
    {
     "data": {
      "text/plain": [
       "(577, 12)"
      ]
     },
     "execution_count": 71,
     "metadata": {},
     "output_type": "execute_result"
    }
   ],
   "source": [
    "df1.shape"
   ]
  },
  {
   "cell_type": "code",
   "execution_count": 72,
   "id": "2d4f1112",
   "metadata": {},
   "outputs": [
    {
     "data": {
      "text/plain": [
       "(614, 12)"
      ]
     },
     "execution_count": 72,
     "metadata": {},
     "output_type": "execute_result"
    }
   ],
   "source": [
    "df.shape"
   ]
  },
  {
   "cell_type": "code",
   "execution_count": 73,
   "id": "760917cb",
   "metadata": {},
   "outputs": [
    {
     "data": {
      "text/plain": [
       "6.026058631921824"
      ]
     },
     "execution_count": 73,
     "metadata": {},
     "output_type": "execute_result"
    }
   ],
   "source": [
    "# data loss\n",
    "\n",
    "(614-577)/614*100"
   ]
  },
  {
   "cell_type": "code",
   "execution_count": 74,
   "id": "0d651e0b",
   "metadata": {},
   "outputs": [],
   "source": [
    "# 6.02% of data loss is acceptable. "
   ]
  },
  {
   "cell_type": "code",
   "execution_count": 75,
   "id": "cb4785ea",
   "metadata": {},
   "outputs": [],
   "source": [
    "# now let's seperate the features and label."
   ]
  },
  {
   "cell_type": "code",
   "execution_count": 76,
   "id": "8e35c5e9",
   "metadata": {},
   "outputs": [],
   "source": [
    "x=df1.drop(columns=['Loan_Status'])\n",
    "y=df1['Loan_Status']"
   ]
  },
  {
   "cell_type": "code",
   "execution_count": 77,
   "id": "4bd1c6f8",
   "metadata": {},
   "outputs": [
    {
     "data": {
      "text/html": [
       "<div>\n",
       "<style scoped>\n",
       "    .dataframe tbody tr th:only-of-type {\n",
       "        vertical-align: middle;\n",
       "    }\n",
       "\n",
       "    .dataframe tbody tr th {\n",
       "        vertical-align: top;\n",
       "    }\n",
       "\n",
       "    .dataframe thead th {\n",
       "        text-align: right;\n",
       "    }\n",
       "</style>\n",
       "<table border=\"1\" class=\"dataframe\">\n",
       "  <thead>\n",
       "    <tr style=\"text-align: right;\">\n",
       "      <th></th>\n",
       "      <th>Gender</th>\n",
       "      <th>Married</th>\n",
       "      <th>Dependents</th>\n",
       "      <th>Education</th>\n",
       "      <th>Self_Employed</th>\n",
       "      <th>ApplicantIncome</th>\n",
       "      <th>CoapplicantIncome</th>\n",
       "      <th>LoanAmount</th>\n",
       "      <th>Loan_Amount_Term</th>\n",
       "      <th>Credit_History</th>\n",
       "      <th>Property_Area</th>\n",
       "    </tr>\n",
       "  </thead>\n",
       "  <tbody>\n",
       "    <tr>\n",
       "      <th>0</th>\n",
       "      <td>0</td>\n",
       "      <td>0</td>\n",
       "      <td>0</td>\n",
       "      <td>1</td>\n",
       "      <td>0</td>\n",
       "      <td>5849</td>\n",
       "      <td>0.0</td>\n",
       "      <td>128.0</td>\n",
       "      <td>360.0</td>\n",
       "      <td>1.0</td>\n",
       "      <td>2</td>\n",
       "    </tr>\n",
       "    <tr>\n",
       "      <th>1</th>\n",
       "      <td>0</td>\n",
       "      <td>1</td>\n",
       "      <td>1</td>\n",
       "      <td>1</td>\n",
       "      <td>0</td>\n",
       "      <td>4583</td>\n",
       "      <td>1508.0</td>\n",
       "      <td>128.0</td>\n",
       "      <td>360.0</td>\n",
       "      <td>1.0</td>\n",
       "      <td>0</td>\n",
       "    </tr>\n",
       "    <tr>\n",
       "      <th>2</th>\n",
       "      <td>0</td>\n",
       "      <td>1</td>\n",
       "      <td>0</td>\n",
       "      <td>1</td>\n",
       "      <td>1</td>\n",
       "      <td>3000</td>\n",
       "      <td>0.0</td>\n",
       "      <td>66.0</td>\n",
       "      <td>360.0</td>\n",
       "      <td>1.0</td>\n",
       "      <td>2</td>\n",
       "    </tr>\n",
       "    <tr>\n",
       "      <th>3</th>\n",
       "      <td>0</td>\n",
       "      <td>1</td>\n",
       "      <td>0</td>\n",
       "      <td>0</td>\n",
       "      <td>0</td>\n",
       "      <td>2583</td>\n",
       "      <td>2358.0</td>\n",
       "      <td>120.0</td>\n",
       "      <td>360.0</td>\n",
       "      <td>1.0</td>\n",
       "      <td>2</td>\n",
       "    </tr>\n",
       "    <tr>\n",
       "      <th>4</th>\n",
       "      <td>0</td>\n",
       "      <td>0</td>\n",
       "      <td>0</td>\n",
       "      <td>1</td>\n",
       "      <td>0</td>\n",
       "      <td>6000</td>\n",
       "      <td>0.0</td>\n",
       "      <td>141.0</td>\n",
       "      <td>360.0</td>\n",
       "      <td>1.0</td>\n",
       "      <td>2</td>\n",
       "    </tr>\n",
       "    <tr>\n",
       "      <th>...</th>\n",
       "      <td>...</td>\n",
       "      <td>...</td>\n",
       "      <td>...</td>\n",
       "      <td>...</td>\n",
       "      <td>...</td>\n",
       "      <td>...</td>\n",
       "      <td>...</td>\n",
       "      <td>...</td>\n",
       "      <td>...</td>\n",
       "      <td>...</td>\n",
       "      <td>...</td>\n",
       "    </tr>\n",
       "    <tr>\n",
       "      <th>609</th>\n",
       "      <td>1</td>\n",
       "      <td>0</td>\n",
       "      <td>0</td>\n",
       "      <td>1</td>\n",
       "      <td>0</td>\n",
       "      <td>2900</td>\n",
       "      <td>0.0</td>\n",
       "      <td>71.0</td>\n",
       "      <td>360.0</td>\n",
       "      <td>1.0</td>\n",
       "      <td>0</td>\n",
       "    </tr>\n",
       "    <tr>\n",
       "      <th>610</th>\n",
       "      <td>0</td>\n",
       "      <td>1</td>\n",
       "      <td>4</td>\n",
       "      <td>1</td>\n",
       "      <td>0</td>\n",
       "      <td>4106</td>\n",
       "      <td>0.0</td>\n",
       "      <td>40.0</td>\n",
       "      <td>180.0</td>\n",
       "      <td>1.0</td>\n",
       "      <td>0</td>\n",
       "    </tr>\n",
       "    <tr>\n",
       "      <th>611</th>\n",
       "      <td>0</td>\n",
       "      <td>1</td>\n",
       "      <td>1</td>\n",
       "      <td>1</td>\n",
       "      <td>0</td>\n",
       "      <td>8072</td>\n",
       "      <td>240.0</td>\n",
       "      <td>253.0</td>\n",
       "      <td>360.0</td>\n",
       "      <td>1.0</td>\n",
       "      <td>2</td>\n",
       "    </tr>\n",
       "    <tr>\n",
       "      <th>612</th>\n",
       "      <td>0</td>\n",
       "      <td>1</td>\n",
       "      <td>2</td>\n",
       "      <td>1</td>\n",
       "      <td>0</td>\n",
       "      <td>7583</td>\n",
       "      <td>0.0</td>\n",
       "      <td>187.0</td>\n",
       "      <td>360.0</td>\n",
       "      <td>1.0</td>\n",
       "      <td>2</td>\n",
       "    </tr>\n",
       "    <tr>\n",
       "      <th>613</th>\n",
       "      <td>1</td>\n",
       "      <td>0</td>\n",
       "      <td>0</td>\n",
       "      <td>1</td>\n",
       "      <td>1</td>\n",
       "      <td>4583</td>\n",
       "      <td>0.0</td>\n",
       "      <td>133.0</td>\n",
       "      <td>360.0</td>\n",
       "      <td>0.0</td>\n",
       "      <td>1</td>\n",
       "    </tr>\n",
       "  </tbody>\n",
       "</table>\n",
       "<p>577 rows × 11 columns</p>\n",
       "</div>"
      ],
      "text/plain": [
       "     Gender  Married  Dependents  Education  Self_Employed  ApplicantIncome  \\\n",
       "0         0        0           0          1              0             5849   \n",
       "1         0        1           1          1              0             4583   \n",
       "2         0        1           0          1              1             3000   \n",
       "3         0        1           0          0              0             2583   \n",
       "4         0        0           0          1              0             6000   \n",
       "..      ...      ...         ...        ...            ...              ...   \n",
       "609       1        0           0          1              0             2900   \n",
       "610       0        1           4          1              0             4106   \n",
       "611       0        1           1          1              0             8072   \n",
       "612       0        1           2          1              0             7583   \n",
       "613       1        0           0          1              1             4583   \n",
       "\n",
       "     CoapplicantIncome  LoanAmount  Loan_Amount_Term  Credit_History  \\\n",
       "0                  0.0       128.0             360.0             1.0   \n",
       "1               1508.0       128.0             360.0             1.0   \n",
       "2                  0.0        66.0             360.0             1.0   \n",
       "3               2358.0       120.0             360.0             1.0   \n",
       "4                  0.0       141.0             360.0             1.0   \n",
       "..                 ...         ...               ...             ...   \n",
       "609                0.0        71.0             360.0             1.0   \n",
       "610                0.0        40.0             180.0             1.0   \n",
       "611              240.0       253.0             360.0             1.0   \n",
       "612                0.0       187.0             360.0             1.0   \n",
       "613                0.0       133.0             360.0             0.0   \n",
       "\n",
       "     Property_Area  \n",
       "0                2  \n",
       "1                0  \n",
       "2                2  \n",
       "3                2  \n",
       "4                2  \n",
       "..             ...  \n",
       "609              0  \n",
       "610              0  \n",
       "611              2  \n",
       "612              2  \n",
       "613              1  \n",
       "\n",
       "[577 rows x 11 columns]"
      ]
     },
     "execution_count": 77,
     "metadata": {},
     "output_type": "execute_result"
    }
   ],
   "source": [
    "x"
   ]
  },
  {
   "cell_type": "code",
   "execution_count": 78,
   "id": "a2ead222",
   "metadata": {},
   "outputs": [
    {
     "data": {
      "text/plain": [
       "0      1\n",
       "1      0\n",
       "2      1\n",
       "3      1\n",
       "4      1\n",
       "      ..\n",
       "609    1\n",
       "610    1\n",
       "611    1\n",
       "612    1\n",
       "613    0\n",
       "Name: Loan_Status, Length: 577, dtype: int32"
      ]
     },
     "execution_count": 78,
     "metadata": {},
     "output_type": "execute_result"
    }
   ],
   "source": [
    "y"
   ]
  },
  {
   "cell_type": "code",
   "execution_count": 79,
   "id": "95298d12",
   "metadata": {},
   "outputs": [
    {
     "data": {
      "text/plain": [
       "Gender               1.622920\n",
       "Married             -0.630211\n",
       "Dependents           1.500252\n",
       "Education           -1.306588\n",
       "Self_Employed        2.252848\n",
       "ApplicantIncome      2.148522\n",
       "CoapplicantIncome    1.350517\n",
       "LoanAmount           1.151525\n",
       "Loan_Amount_Term    -2.098806\n",
       "Credit_History      -1.976043\n",
       "Property_Area       -0.055332\n",
       "dtype: float64"
      ]
     },
     "execution_count": 79,
     "metadata": {},
     "output_type": "execute_result"
    }
   ],
   "source": [
    "x.skew()"
   ]
  },
  {
   "cell_type": "code",
   "execution_count": 80,
   "id": "a8573294",
   "metadata": {},
   "outputs": [],
   "source": [
    "# let's deal with the skewness"
   ]
  },
  {
   "cell_type": "code",
   "execution_count": 81,
   "id": "0f570d72",
   "metadata": {},
   "outputs": [],
   "source": [
    "s=['Gender','Dependents','ApplicantIncome','LoanAmount','Loan_Amount_Term']"
   ]
  },
  {
   "cell_type": "code",
   "execution_count": 82,
   "id": "7d7399a5",
   "metadata": {},
   "outputs": [],
   "source": [
    "from sklearn.preprocessing import PowerTransformer\n",
    "yj = PowerTransformer(method = 'yeo-johnson')"
   ]
  },
  {
   "cell_type": "code",
   "execution_count": 83,
   "id": "4fe1528f",
   "metadata": {},
   "outputs": [],
   "source": [
    "x[s] = yj.fit_transform(x[s].values)"
   ]
  },
  {
   "cell_type": "code",
   "execution_count": 84,
   "id": "5ad81c12",
   "metadata": {},
   "outputs": [
    {
     "data": {
      "text/plain": [
       "Gender               1.622920\n",
       "Married             -0.630211\n",
       "Dependents           0.496677\n",
       "Education           -1.306588\n",
       "Self_Employed        2.252848\n",
       "ApplicantIncome      0.027981\n",
       "CoapplicantIncome    1.350517\n",
       "LoanAmount           0.048425\n",
       "Loan_Amount_Term     0.727533\n",
       "Credit_History      -1.976043\n",
       "Property_Area       -0.055332\n",
       "dtype: float64"
      ]
     },
     "execution_count": 84,
     "metadata": {},
     "output_type": "execute_result"
    }
   ],
   "source": [
    "x.skew()"
   ]
  },
  {
   "cell_type": "code",
   "execution_count": 85,
   "id": "d51f2a98",
   "metadata": {},
   "outputs": [
    {
     "data": {
      "image/png": "[encoded data removed]",
      "text/plain": [
       "<Figure size 1440x1800 with 11 Axes>"
      ]
     },
     "metadata": {},
     "output_type": "display_data"
    }
   ],
   "source": [
    "plt.figure(figsize=(20,25),facecolor='Yellow')\n",
    "pltno=1\n",
    "\n",
    "for c in x:\n",
    "    if pltno<=12:\n",
    "        ax=plt.subplot(3,4,pltno)\n",
    "        sns.distplot(x[c])\n",
    "        plt.xlabel(c,fontsize=15)\n",
    "        \n",
    "    pltno+=1"
   ]
  },
  {
   "cell_type": "code",
   "execution_count": 86,
   "id": "7333911d",
   "metadata": {},
   "outputs": [],
   "source": [
    "# The data looks better than before."
   ]
  },
  {
   "cell_type": "code",
   "execution_count": 87,
   "id": "fc0e633e",
   "metadata": {},
   "outputs": [],
   "source": [
    "cor=df.corr()"
   ]
  },
  {
   "cell_type": "code",
   "execution_count": 88,
   "id": "526321c9",
   "metadata": {},
   "outputs": [
    {
     "data": {
      "text/plain": [
       "Loan_Status          1.000000\n",
       "Credit_History       0.540556\n",
       "Married              0.091478\n",
       "Education            0.085884\n",
       "Property_Area        0.032112\n",
       "Dependents           0.002474\n",
       "Self_Employed       -0.003700\n",
       "ApplicantIncome     -0.004710\n",
       "Gender              -0.017987\n",
       "Loan_Amount_Term    -0.022549\n",
       "LoanAmount          -0.033214\n",
       "CoapplicantIncome   -0.059187\n",
       "Name: Loan_Status, dtype: float64"
      ]
     },
     "execution_count": 88,
     "metadata": {},
     "output_type": "execute_result"
    }
   ],
   "source": [
    "cor['Loan_Status'].sort_values(ascending=False)"
   ]
  },
  {
   "cell_type": "code",
   "execution_count": 89,
   "id": "5f9448ee",
   "metadata": {},
   "outputs": [],
   "source": [
    "# Now we will standardise the data."
   ]
  },
  {
   "cell_type": "code",
   "execution_count": 90,
   "id": "9d96620a",
   "metadata": {},
   "outputs": [
    {
     "data": {
      "text/plain": [
       "array([[-0.47713685, -1.36251079, -0.80689739, ...,  0.13078824,\n",
       "         0.41851254,  1.22747207],\n",
       "       [-0.47713685,  0.73393914,  0.88093954, ...,  0.13078824,\n",
       "         0.41851254, -1.30652215],\n",
       "       [-0.47713685,  0.73393914, -0.80689739, ...,  0.13078824,\n",
       "         0.41851254,  1.22747207],\n",
       "       ...,\n",
       "       [-0.47713685,  0.73393914,  0.88093954, ...,  0.13078824,\n",
       "         0.41851254,  1.22747207],\n",
       "       [-0.47713685,  0.73393914,  1.32110655, ...,  0.13078824,\n",
       "         0.41851254,  1.22747207],\n",
       "       [ 2.09583477, -1.36251079, -0.80689739, ...,  0.13078824,\n",
       "        -2.38941464, -0.03952504]])"
      ]
     },
     "execution_count": 90,
     "metadata": {},
     "output_type": "execute_result"
    }
   ],
   "source": [
    "from sklearn.preprocessing import StandardScaler\n",
    "sc = StandardScaler()\n",
    "scaled_x = sc.fit_transform(x)\n",
    "scaled_x"
   ]
  },
  {
   "cell_type": "code",
   "execution_count": 91,
   "id": "e4913caf",
   "metadata": {},
   "outputs": [],
   "source": [
    "xx=pd.DataFrame(scaled_x,columns=x.columns)"
   ]
  },
  {
   "cell_type": "code",
   "execution_count": 92,
   "id": "89e618e9",
   "metadata": {},
   "outputs": [
    {
     "data": {
      "text/html": [
       "<div>\n",
       "<style scoped>\n",
       "    .dataframe tbody tr th:only-of-type {\n",
       "        vertical-align: middle;\n",
       "    }\n",
       "\n",
       "    .dataframe tbody tr th {\n",
       "        vertical-align: top;\n",
       "    }\n",
       "\n",
       "    .dataframe thead th {\n",
       "        text-align: right;\n",
       "    }\n",
       "</style>\n",
       "<table border=\"1\" class=\"dataframe\">\n",
       "  <thead>\n",
       "    <tr style=\"text-align: right;\">\n",
       "      <th></th>\n",
       "      <th>Gender</th>\n",
       "      <th>Married</th>\n",
       "      <th>Dependents</th>\n",
       "      <th>Education</th>\n",
       "      <th>Self_Employed</th>\n",
       "      <th>ApplicantIncome</th>\n",
       "      <th>CoapplicantIncome</th>\n",
       "      <th>LoanAmount</th>\n",
       "      <th>Loan_Amount_Term</th>\n",
       "      <th>Credit_History</th>\n",
       "      <th>Property_Area</th>\n",
       "    </tr>\n",
       "  </thead>\n",
       "  <tbody>\n",
       "    <tr>\n",
       "      <th>0</th>\n",
       "      <td>-0.477137</td>\n",
       "      <td>-1.362511</td>\n",
       "      <td>-0.806897</td>\n",
       "      <td>0.541961</td>\n",
       "      <td>-0.380580</td>\n",
       "      <td>0.681780</td>\n",
       "      <td>-0.861036</td>\n",
       "      <td>0.000771</td>\n",
       "      <td>0.130788</td>\n",
       "      <td>0.418513</td>\n",
       "      <td>1.227472</td>\n",
       "    </tr>\n",
       "    <tr>\n",
       "      <th>1</th>\n",
       "      <td>-0.477137</td>\n",
       "      <td>0.733939</td>\n",
       "      <td>0.880940</td>\n",
       "      <td>0.541961</td>\n",
       "      <td>-0.380580</td>\n",
       "      <td>0.234783</td>\n",
       "      <td>0.052840</td>\n",
       "      <td>0.000771</td>\n",
       "      <td>0.130788</td>\n",
       "      <td>0.418513</td>\n",
       "      <td>-1.306522</td>\n",
       "    </tr>\n",
       "    <tr>\n",
       "      <th>2</th>\n",
       "      <td>-0.477137</td>\n",
       "      <td>0.733939</td>\n",
       "      <td>-0.806897</td>\n",
       "      <td>0.541961</td>\n",
       "      <td>2.627567</td>\n",
       "      <td>-0.527201</td>\n",
       "      <td>-0.861036</td>\n",
       "      <td>-1.437336</td>\n",
       "      <td>0.130788</td>\n",
       "      <td>0.418513</td>\n",
       "      <td>1.227472</td>\n",
       "    </tr>\n",
       "    <tr>\n",
       "      <th>3</th>\n",
       "      <td>-0.477137</td>\n",
       "      <td>0.733939</td>\n",
       "      <td>-0.806897</td>\n",
       "      <td>-1.845150</td>\n",
       "      <td>-0.380580</td>\n",
       "      <td>-0.791972</td>\n",
       "      <td>0.567956</td>\n",
       "      <td>-0.153545</td>\n",
       "      <td>0.130788</td>\n",
       "      <td>0.418513</td>\n",
       "      <td>1.227472</td>\n",
       "    </tr>\n",
       "    <tr>\n",
       "      <th>4</th>\n",
       "      <td>-0.477137</td>\n",
       "      <td>-1.362511</td>\n",
       "      <td>-0.806897</td>\n",
       "      <td>0.541961</td>\n",
       "      <td>-0.380580</td>\n",
       "      <td>0.728848</td>\n",
       "      <td>-0.861036</td>\n",
       "      <td>0.238260</td>\n",
       "      <td>0.130788</td>\n",
       "      <td>0.418513</td>\n",
       "      <td>1.227472</td>\n",
       "    </tr>\n",
       "    <tr>\n",
       "      <th>...</th>\n",
       "      <td>...</td>\n",
       "      <td>...</td>\n",
       "      <td>...</td>\n",
       "      <td>...</td>\n",
       "      <td>...</td>\n",
       "      <td>...</td>\n",
       "      <td>...</td>\n",
       "      <td>...</td>\n",
       "      <td>...</td>\n",
       "      <td>...</td>\n",
       "      <td>...</td>\n",
       "    </tr>\n",
       "    <tr>\n",
       "      <th>572</th>\n",
       "      <td>2.095835</td>\n",
       "      <td>-1.362511</td>\n",
       "      <td>-0.806897</td>\n",
       "      <td>0.541961</td>\n",
       "      <td>-0.380580</td>\n",
       "      <td>-0.587375</td>\n",
       "      <td>-0.861036</td>\n",
       "      <td>-1.293791</td>\n",
       "      <td>0.130788</td>\n",
       "      <td>0.418513</td>\n",
       "      <td>-1.306522</td>\n",
       "    </tr>\n",
       "    <tr>\n",
       "      <th>573</th>\n",
       "      <td>-0.477137</td>\n",
       "      <td>0.733939</td>\n",
       "      <td>1.612434</td>\n",
       "      <td>0.541961</td>\n",
       "      <td>-0.380580</td>\n",
       "      <td>0.035386</td>\n",
       "      <td>-0.861036</td>\n",
       "      <td>-2.332692</td>\n",
       "      <td>-2.562700</td>\n",
       "      <td>0.418513</td>\n",
       "      <td>-1.306522</td>\n",
       "    </tr>\n",
       "    <tr>\n",
       "      <th>574</th>\n",
       "      <td>-0.477137</td>\n",
       "      <td>0.733939</td>\n",
       "      <td>0.880940</td>\n",
       "      <td>0.541961</td>\n",
       "      <td>-0.380580</td>\n",
       "      <td>1.281658</td>\n",
       "      <td>-0.715592</td>\n",
       "      <td>1.845015</td>\n",
       "      <td>0.130788</td>\n",
       "      <td>0.418513</td>\n",
       "      <td>1.227472</td>\n",
       "    </tr>\n",
       "    <tr>\n",
       "      <th>575</th>\n",
       "      <td>-0.477137</td>\n",
       "      <td>0.733939</td>\n",
       "      <td>1.321107</td>\n",
       "      <td>0.541961</td>\n",
       "      <td>-0.380580</td>\n",
       "      <td>1.164426</td>\n",
       "      <td>-0.861036</td>\n",
       "      <td>0.976055</td>\n",
       "      <td>0.130788</td>\n",
       "      <td>0.418513</td>\n",
       "      <td>1.227472</td>\n",
       "    </tr>\n",
       "    <tr>\n",
       "      <th>576</th>\n",
       "      <td>2.095835</td>\n",
       "      <td>-1.362511</td>\n",
       "      <td>-0.806897</td>\n",
       "      <td>0.541961</td>\n",
       "      <td>2.627567</td>\n",
       "      <td>0.234783</td>\n",
       "      <td>-0.861036</td>\n",
       "      <td>0.093952</td>\n",
       "      <td>0.130788</td>\n",
       "      <td>-2.389415</td>\n",
       "      <td>-0.039525</td>\n",
       "    </tr>\n",
       "  </tbody>\n",
       "</table>\n",
       "<p>577 rows × 11 columns</p>\n",
       "</div>"
      ],
      "text/plain": [
       "       Gender   Married  Dependents  Education  Self_Employed  \\\n",
       "0   -0.477137 -1.362511   -0.806897   0.541961      -0.380580   \n",
       "1   -0.477137  0.733939    0.880940   0.541961      -0.380580   \n",
       "2   -0.477137  0.733939   -0.806897   0.541961       2.627567   \n",
       "3   -0.477137  0.733939   -0.806897  -1.845150      -0.380580   \n",
       "4   -0.477137 -1.362511   -0.806897   0.541961      -0.380580   \n",
       "..        ...       ...         ...        ...            ...   \n",
       "572  2.095835 -1.362511   -0.806897   0.541961      -0.380580   \n",
       "573 -0.477137  0.733939    1.612434   0.541961      -0.380580   \n",
       "574 -0.477137  0.733939    0.880940   0.541961      -0.380580   \n",
       "575 -0.477137  0.733939    1.321107   0.541961      -0.380580   \n",
       "576  2.095835 -1.362511   -0.806897   0.541961       2.627567   \n",
       "\n",
       "     ApplicantIncome  CoapplicantIncome  LoanAmount  Loan_Amount_Term  \\\n",
       "0           0.681780          -0.861036    0.000771          0.130788   \n",
       "1           0.234783           0.052840    0.000771          0.130788   \n",
       "2          -0.527201          -0.861036   -1.437336          0.130788   \n",
       "3          -0.791972           0.567956   -0.153545          0.130788   \n",
       "4           0.728848          -0.861036    0.238260          0.130788   \n",
       "..               ...                ...         ...               ...   \n",
       "572        -0.587375          -0.861036   -1.293791          0.130788   \n",
       "573         0.035386          -0.861036   -2.332692         -2.562700   \n",
       "574         1.281658          -0.715592    1.845015          0.130788   \n",
       "575         1.164426          -0.861036    0.976055          0.130788   \n",
       "576         0.234783          -0.861036    0.093952          0.130788   \n",
       "\n",
       "     Credit_History  Property_Area  \n",
       "0          0.418513       1.227472  \n",
       "1          0.418513      -1.306522  \n",
       "2          0.418513       1.227472  \n",
       "3          0.418513       1.227472  \n",
       "4          0.418513       1.227472  \n",
       "..              ...            ...  \n",
       "572        0.418513      -1.306522  \n",
       "573        0.418513      -1.306522  \n",
       "574        0.418513       1.227472  \n",
       "575        0.418513       1.227472  \n",
       "576       -2.389415      -0.039525  \n",
       "\n",
       "[577 rows x 11 columns]"
      ]
     },
     "execution_count": 92,
     "metadata": {},
     "output_type": "execute_result"
    }
   ],
   "source": [
    "xx"
   ]
  },
  {
   "cell_type": "code",
   "execution_count": 93,
   "id": "540d513b",
   "metadata": {},
   "outputs": [],
   "source": [
    "# now we will check the vif values"
   ]
  },
  {
   "cell_type": "code",
   "execution_count": 94,
   "id": "6d53827d",
   "metadata": {},
   "outputs": [],
   "source": [
    "from statsmodels.stats.outliers_influence import variance_inflation_factor"
   ]
  },
  {
   "cell_type": "code",
   "execution_count": 95,
   "id": "23a0d07a",
   "metadata": {},
   "outputs": [],
   "source": [
    "vif=pd.DataFrame()\n",
    "vif['Vif values']=[variance_inflation_factor(xx.values,i)\n",
    "                    for i in range(len(xx.columns))]\n",
    "vif[\"features\"]=xx.columns"
   ]
  },
  {
   "cell_type": "code",
   "execution_count": 96,
   "id": "2369326a",
   "metadata": {},
   "outputs": [
    {
     "data": {
      "text/html": [
       "<div>\n",
       "<style scoped>\n",
       "    .dataframe tbody tr th:only-of-type {\n",
       "        vertical-align: middle;\n",
       "    }\n",
       "\n",
       "    .dataframe tbody tr th {\n",
       "        vertical-align: top;\n",
       "    }\n",
       "\n",
       "    .dataframe thead th {\n",
       "        text-align: right;\n",
       "    }\n",
       "</style>\n",
       "<table border=\"1\" class=\"dataframe\">\n",
       "  <thead>\n",
       "    <tr style=\"text-align: right;\">\n",
       "      <th></th>\n",
       "      <th>Vif values</th>\n",
       "      <th>features</th>\n",
       "    </tr>\n",
       "  </thead>\n",
       "  <tbody>\n",
       "    <tr>\n",
       "      <th>0</th>\n",
       "      <td>1.209212</td>\n",
       "      <td>Gender</td>\n",
       "    </tr>\n",
       "    <tr>\n",
       "      <th>1</th>\n",
       "      <td>1.370005</td>\n",
       "      <td>Married</td>\n",
       "    </tr>\n",
       "    <tr>\n",
       "      <th>2</th>\n",
       "      <td>1.189979</td>\n",
       "      <td>Dependents</td>\n",
       "    </tr>\n",
       "    <tr>\n",
       "      <th>3</th>\n",
       "      <td>1.072506</td>\n",
       "      <td>Education</td>\n",
       "    </tr>\n",
       "    <tr>\n",
       "      <th>4</th>\n",
       "      <td>1.055308</td>\n",
       "      <td>Self_Employed</td>\n",
       "    </tr>\n",
       "    <tr>\n",
       "      <th>5</th>\n",
       "      <td>1.658099</td>\n",
       "      <td>ApplicantIncome</td>\n",
       "    </tr>\n",
       "    <tr>\n",
       "      <th>6</th>\n",
       "      <td>1.474426</td>\n",
       "      <td>CoapplicantIncome</td>\n",
       "    </tr>\n",
       "    <tr>\n",
       "      <th>7</th>\n",
       "      <td>1.664141</td>\n",
       "      <td>LoanAmount</td>\n",
       "    </tr>\n",
       "    <tr>\n",
       "      <th>8</th>\n",
       "      <td>1.062626</td>\n",
       "      <td>Loan_Amount_Term</td>\n",
       "    </tr>\n",
       "    <tr>\n",
       "      <th>9</th>\n",
       "      <td>1.008470</td>\n",
       "      <td>Credit_History</td>\n",
       "    </tr>\n",
       "    <tr>\n",
       "      <th>10</th>\n",
       "      <td>1.027313</td>\n",
       "      <td>Property_Area</td>\n",
       "    </tr>\n",
       "  </tbody>\n",
       "</table>\n",
       "</div>"
      ],
      "text/plain": [
       "    Vif values           features\n",
       "0     1.209212             Gender\n",
       "1     1.370005            Married\n",
       "2     1.189979         Dependents\n",
       "3     1.072506          Education\n",
       "4     1.055308      Self_Employed\n",
       "5     1.658099    ApplicantIncome\n",
       "6     1.474426  CoapplicantIncome\n",
       "7     1.664141         LoanAmount\n",
       "8     1.062626   Loan_Amount_Term\n",
       "9     1.008470     Credit_History\n",
       "10    1.027313      Property_Area"
      ]
     },
     "execution_count": 96,
     "metadata": {},
     "output_type": "execute_result"
    }
   ],
   "source": [
    "vif"
   ]
  },
  {
   "cell_type": "code",
   "execution_count": 97,
   "id": "dbd5bc51",
   "metadata": {},
   "outputs": [],
   "source": [
    "# The VIF values of all the features are  under 10."
   ]
  },
  {
   "cell_type": "code",
   "execution_count": 98,
   "id": "72d79931",
   "metadata": {},
   "outputs": [],
   "source": [
    "# now we will build the models."
   ]
  },
  {
   "cell_type": "code",
   "execution_count": 99,
   "id": "b82acd04",
   "metadata": {},
   "outputs": [
    {
     "data": {
      "text/plain": [
       "1    398\n",
       "0    179\n",
       "Name: Loan_Status, dtype: int64"
      ]
     },
     "execution_count": 99,
     "metadata": {},
     "output_type": "execute_result"
    }
   ],
   "source": [
    "y.value_counts()"
   ]
  },
  {
   "cell_type": "code",
   "execution_count": 100,
   "id": "808d0d65",
   "metadata": {},
   "outputs": [],
   "source": [
    "#our target variable is imbalanced, so we will balance the data first."
   ]
  },
  {
   "cell_type": "code",
   "execution_count": 101,
   "id": "a80ebfec",
   "metadata": {},
   "outputs": [
    {
     "data": {
      "text/plain": [
       "1    398\n",
       "0    398\n",
       "Name: Loan_Status, dtype: int64"
      ]
     },
     "execution_count": 101,
     "metadata": {},
     "output_type": "execute_result"
    }
   ],
   "source": [
    "from imblearn.over_sampling import SMOTE\n",
    "smt= SMOTE(random_state=44)\n",
    "train_x,train_y=smt.fit_resample(xx,y)\n",
    "train_y.value_counts()"
   ]
  },
  {
   "cell_type": "code",
   "execution_count": 102,
   "id": "615f73a7",
   "metadata": {},
   "outputs": [
    {
     "data": {
      "text/html": [
       "<div>\n",
       "<style scoped>\n",
       "    .dataframe tbody tr th:only-of-type {\n",
       "        vertical-align: middle;\n",
       "    }\n",
       "\n",
       "    .dataframe tbody tr th {\n",
       "        vertical-align: top;\n",
       "    }\n",
       "\n",
       "    .dataframe thead th {\n",
       "        text-align: right;\n",
       "    }\n",
       "</style>\n",
       "<table border=\"1\" class=\"dataframe\">\n",
       "  <thead>\n",
       "    <tr style=\"text-align: right;\">\n",
       "      <th></th>\n",
       "      <th>Gender</th>\n",
       "      <th>Married</th>\n",
       "      <th>Dependents</th>\n",
       "      <th>Education</th>\n",
       "      <th>Self_Employed</th>\n",
       "      <th>ApplicantIncome</th>\n",
       "      <th>CoapplicantIncome</th>\n",
       "      <th>LoanAmount</th>\n",
       "      <th>Loan_Amount_Term</th>\n",
       "      <th>Credit_History</th>\n",
       "      <th>Property_Area</th>\n",
       "      <th>Loan_Status</th>\n",
       "    </tr>\n",
       "  </thead>\n",
       "  <tbody>\n",
       "    <tr>\n",
       "      <th>0</th>\n",
       "      <td>-0.477137</td>\n",
       "      <td>-1.362511</td>\n",
       "      <td>-0.806897</td>\n",
       "      <td>0.541961</td>\n",
       "      <td>-0.380580</td>\n",
       "      <td>0.681780</td>\n",
       "      <td>-0.861036</td>\n",
       "      <td>0.000771</td>\n",
       "      <td>0.130788</td>\n",
       "      <td>0.418513</td>\n",
       "      <td>1.227472</td>\n",
       "      <td>1</td>\n",
       "    </tr>\n",
       "    <tr>\n",
       "      <th>1</th>\n",
       "      <td>-0.477137</td>\n",
       "      <td>0.733939</td>\n",
       "      <td>0.880940</td>\n",
       "      <td>0.541961</td>\n",
       "      <td>-0.380580</td>\n",
       "      <td>0.234783</td>\n",
       "      <td>0.052840</td>\n",
       "      <td>0.000771</td>\n",
       "      <td>0.130788</td>\n",
       "      <td>0.418513</td>\n",
       "      <td>-1.306522</td>\n",
       "      <td>0</td>\n",
       "    </tr>\n",
       "    <tr>\n",
       "      <th>2</th>\n",
       "      <td>-0.477137</td>\n",
       "      <td>0.733939</td>\n",
       "      <td>-0.806897</td>\n",
       "      <td>0.541961</td>\n",
       "      <td>2.627567</td>\n",
       "      <td>-0.527201</td>\n",
       "      <td>-0.861036</td>\n",
       "      <td>-1.437336</td>\n",
       "      <td>0.130788</td>\n",
       "      <td>0.418513</td>\n",
       "      <td>1.227472</td>\n",
       "      <td>1</td>\n",
       "    </tr>\n",
       "    <tr>\n",
       "      <th>3</th>\n",
       "      <td>-0.477137</td>\n",
       "      <td>0.733939</td>\n",
       "      <td>-0.806897</td>\n",
       "      <td>-1.845150</td>\n",
       "      <td>-0.380580</td>\n",
       "      <td>-0.791972</td>\n",
       "      <td>0.567956</td>\n",
       "      <td>-0.153545</td>\n",
       "      <td>0.130788</td>\n",
       "      <td>0.418513</td>\n",
       "      <td>1.227472</td>\n",
       "      <td>1</td>\n",
       "    </tr>\n",
       "    <tr>\n",
       "      <th>4</th>\n",
       "      <td>-0.477137</td>\n",
       "      <td>-1.362511</td>\n",
       "      <td>-0.806897</td>\n",
       "      <td>0.541961</td>\n",
       "      <td>-0.380580</td>\n",
       "      <td>0.728848</td>\n",
       "      <td>-0.861036</td>\n",
       "      <td>0.238260</td>\n",
       "      <td>0.130788</td>\n",
       "      <td>0.418513</td>\n",
       "      <td>1.227472</td>\n",
       "      <td>1</td>\n",
       "    </tr>\n",
       "    <tr>\n",
       "      <th>...</th>\n",
       "      <td>...</td>\n",
       "      <td>...</td>\n",
       "      <td>...</td>\n",
       "      <td>...</td>\n",
       "      <td>...</td>\n",
       "      <td>...</td>\n",
       "      <td>...</td>\n",
       "      <td>...</td>\n",
       "      <td>...</td>\n",
       "      <td>...</td>\n",
       "      <td>...</td>\n",
       "      <td>...</td>\n",
       "    </tr>\n",
       "    <tr>\n",
       "      <th>791</th>\n",
       "      <td>0.442498</td>\n",
       "      <td>-1.362511</td>\n",
       "      <td>-0.806897</td>\n",
       "      <td>0.541961</td>\n",
       "      <td>-0.380580</td>\n",
       "      <td>-0.172087</td>\n",
       "      <td>-0.310645</td>\n",
       "      <td>-0.684426</td>\n",
       "      <td>4.360131</td>\n",
       "      <td>0.418513</td>\n",
       "      <td>0.321768</td>\n",
       "      <td>0</td>\n",
       "    </tr>\n",
       "    <tr>\n",
       "      <th>792</th>\n",
       "      <td>-0.477137</td>\n",
       "      <td>0.733939</td>\n",
       "      <td>-0.806897</td>\n",
       "      <td>-1.845150</td>\n",
       "      <td>-0.380580</td>\n",
       "      <td>-0.760588</td>\n",
       "      <td>0.353864</td>\n",
       "      <td>-0.215397</td>\n",
       "      <td>0.130788</td>\n",
       "      <td>-2.389415</td>\n",
       "      <td>0.057412</td>\n",
       "      <td>0</td>\n",
       "    </tr>\n",
       "    <tr>\n",
       "      <th>793</th>\n",
       "      <td>-0.477137</td>\n",
       "      <td>-1.362511</td>\n",
       "      <td>0.989565</td>\n",
       "      <td>0.541961</td>\n",
       "      <td>-0.380580</td>\n",
       "      <td>-0.048678</td>\n",
       "      <td>-0.861036</td>\n",
       "      <td>-0.331047</td>\n",
       "      <td>0.130788</td>\n",
       "      <td>-2.389415</td>\n",
       "      <td>-1.306522</td>\n",
       "      <td>0</td>\n",
       "    </tr>\n",
       "    <tr>\n",
       "      <th>794</th>\n",
       "      <td>2.095835</td>\n",
       "      <td>-1.362511</td>\n",
       "      <td>-0.806897</td>\n",
       "      <td>0.541961</td>\n",
       "      <td>0.847853</td>\n",
       "      <td>-0.492981</td>\n",
       "      <td>-0.436115</td>\n",
       "      <td>-0.165562</td>\n",
       "      <td>-0.399237</td>\n",
       "      <td>0.418513</td>\n",
       "      <td>-0.789120</td>\n",
       "      <td>0</td>\n",
       "    </tr>\n",
       "    <tr>\n",
       "      <th>795</th>\n",
       "      <td>-0.477137</td>\n",
       "      <td>0.733939</td>\n",
       "      <td>1.378431</td>\n",
       "      <td>0.541961</td>\n",
       "      <td>-0.380580</td>\n",
       "      <td>0.294119</td>\n",
       "      <td>-0.861036</td>\n",
       "      <td>-0.049245</td>\n",
       "      <td>0.130788</td>\n",
       "      <td>0.418513</td>\n",
       "      <td>1.227472</td>\n",
       "      <td>0</td>\n",
       "    </tr>\n",
       "  </tbody>\n",
       "</table>\n",
       "<p>796 rows × 12 columns</p>\n",
       "</div>"
      ],
      "text/plain": [
       "       Gender   Married  Dependents  Education  Self_Employed  \\\n",
       "0   -0.477137 -1.362511   -0.806897   0.541961      -0.380580   \n",
       "1   -0.477137  0.733939    0.880940   0.541961      -0.380580   \n",
       "2   -0.477137  0.733939   -0.806897   0.541961       2.627567   \n",
       "3   -0.477137  0.733939   -0.806897  -1.845150      -0.380580   \n",
       "4   -0.477137 -1.362511   -0.806897   0.541961      -0.380580   \n",
       "..        ...       ...         ...        ...            ...   \n",
       "791  0.442498 -1.362511   -0.806897   0.541961      -0.380580   \n",
       "792 -0.477137  0.733939   -0.806897  -1.845150      -0.380580   \n",
       "793 -0.477137 -1.362511    0.989565   0.541961      -0.380580   \n",
       "794  2.095835 -1.362511   -0.806897   0.541961       0.847853   \n",
       "795 -0.477137  0.733939    1.378431   0.541961      -0.380580   \n",
       "\n",
       "     ApplicantIncome  CoapplicantIncome  LoanAmount  Loan_Amount_Term  \\\n",
       "0           0.681780          -0.861036    0.000771          0.130788   \n",
       "1           0.234783           0.052840    0.000771          0.130788   \n",
       "2          -0.527201          -0.861036   -1.437336          0.130788   \n",
       "3          -0.791972           0.567956   -0.153545          0.130788   \n",
       "4           0.728848          -0.861036    0.238260          0.130788   \n",
       "..               ...                ...         ...               ...   \n",
       "791        -0.172087          -0.310645   -0.684426          4.360131   \n",
       "792        -0.760588           0.353864   -0.215397          0.130788   \n",
       "793        -0.048678          -0.861036   -0.331047          0.130788   \n",
       "794        -0.492981          -0.436115   -0.165562         -0.399237   \n",
       "795         0.294119          -0.861036   -0.049245          0.130788   \n",
       "\n",
       "     Credit_History  Property_Area  Loan_Status  \n",
       "0          0.418513       1.227472            1  \n",
       "1          0.418513      -1.306522            0  \n",
       "2          0.418513       1.227472            1  \n",
       "3          0.418513       1.227472            1  \n",
       "4          0.418513       1.227472            1  \n",
       "..              ...            ...          ...  \n",
       "791        0.418513       0.321768            0  \n",
       "792       -2.389415       0.057412            0  \n",
       "793       -2.389415      -1.306522            0  \n",
       "794        0.418513      -0.789120            0  \n",
       "795        0.418513       1.227472            0  \n",
       "\n",
       "[796 rows x 12 columns]"
      ]
     },
     "execution_count": 102,
     "metadata": {},
     "output_type": "execute_result"
    }
   ],
   "source": [
    "df_new=pd.DataFrame(data=train_x)\n",
    "df_new['Loan_Status']=train_y\n",
    "ndf=df_new\n",
    "ndf"
   ]
  },
  {
   "cell_type": "code",
   "execution_count": 103,
   "id": "dd3f3f69",
   "metadata": {},
   "outputs": [],
   "source": [
    "# now there are 796 rows and 12 columns in the dataset."
   ]
  },
  {
   "cell_type": "code",
   "execution_count": 104,
   "id": "44f83fe3",
   "metadata": {},
   "outputs": [],
   "source": [
    "x=ndf.drop(columns=['Loan_Status'])\n",
    "y=ndf['Loan_Status']"
   ]
  },
  {
   "cell_type": "code",
   "execution_count": 105,
   "id": "29d00549",
   "metadata": {},
   "outputs": [
    {
     "data": {
      "text/html": [
       "<div>\n",
       "<style scoped>\n",
       "    .dataframe tbody tr th:only-of-type {\n",
       "        vertical-align: middle;\n",
       "    }\n",
       "\n",
       "    .dataframe tbody tr th {\n",
       "        vertical-align: top;\n",
       "    }\n",
       "\n",
       "    .dataframe thead th {\n",
       "        text-align: right;\n",
       "    }\n",
       "</style>\n",
       "<table border=\"1\" class=\"dataframe\">\n",
       "  <thead>\n",
       "    <tr style=\"text-align: right;\">\n",
       "      <th></th>\n",
       "      <th>Gender</th>\n",
       "      <th>Married</th>\n",
       "      <th>Dependents</th>\n",
       "      <th>Education</th>\n",
       "      <th>Self_Employed</th>\n",
       "      <th>ApplicantIncome</th>\n",
       "      <th>CoapplicantIncome</th>\n",
       "      <th>LoanAmount</th>\n",
       "      <th>Loan_Amount_Term</th>\n",
       "      <th>Credit_History</th>\n",
       "      <th>Property_Area</th>\n",
       "    </tr>\n",
       "  </thead>\n",
       "  <tbody>\n",
       "    <tr>\n",
       "      <th>0</th>\n",
       "      <td>-0.477137</td>\n",
       "      <td>-1.362511</td>\n",
       "      <td>-0.806897</td>\n",
       "      <td>0.541961</td>\n",
       "      <td>-0.380580</td>\n",
       "      <td>0.681780</td>\n",
       "      <td>-0.861036</td>\n",
       "      <td>0.000771</td>\n",
       "      <td>0.130788</td>\n",
       "      <td>0.418513</td>\n",
       "      <td>1.227472</td>\n",
       "    </tr>\n",
       "    <tr>\n",
       "      <th>1</th>\n",
       "      <td>-0.477137</td>\n",
       "      <td>0.733939</td>\n",
       "      <td>0.880940</td>\n",
       "      <td>0.541961</td>\n",
       "      <td>-0.380580</td>\n",
       "      <td>0.234783</td>\n",
       "      <td>0.052840</td>\n",
       "      <td>0.000771</td>\n",
       "      <td>0.130788</td>\n",
       "      <td>0.418513</td>\n",
       "      <td>-1.306522</td>\n",
       "    </tr>\n",
       "    <tr>\n",
       "      <th>2</th>\n",
       "      <td>-0.477137</td>\n",
       "      <td>0.733939</td>\n",
       "      <td>-0.806897</td>\n",
       "      <td>0.541961</td>\n",
       "      <td>2.627567</td>\n",
       "      <td>-0.527201</td>\n",
       "      <td>-0.861036</td>\n",
       "      <td>-1.437336</td>\n",
       "      <td>0.130788</td>\n",
       "      <td>0.418513</td>\n",
       "      <td>1.227472</td>\n",
       "    </tr>\n",
       "    <tr>\n",
       "      <th>3</th>\n",
       "      <td>-0.477137</td>\n",
       "      <td>0.733939</td>\n",
       "      <td>-0.806897</td>\n",
       "      <td>-1.845150</td>\n",
       "      <td>-0.380580</td>\n",
       "      <td>-0.791972</td>\n",
       "      <td>0.567956</td>\n",
       "      <td>-0.153545</td>\n",
       "      <td>0.130788</td>\n",
       "      <td>0.418513</td>\n",
       "      <td>1.227472</td>\n",
       "    </tr>\n",
       "    <tr>\n",
       "      <th>4</th>\n",
       "      <td>-0.477137</td>\n",
       "      <td>-1.362511</td>\n",
       "      <td>-0.806897</td>\n",
       "      <td>0.541961</td>\n",
       "      <td>-0.380580</td>\n",
       "      <td>0.728848</td>\n",
       "      <td>-0.861036</td>\n",
       "      <td>0.238260</td>\n",
       "      <td>0.130788</td>\n",
       "      <td>0.418513</td>\n",
       "      <td>1.227472</td>\n",
       "    </tr>\n",
       "    <tr>\n",
       "      <th>...</th>\n",
       "      <td>...</td>\n",
       "      <td>...</td>\n",
       "      <td>...</td>\n",
       "      <td>...</td>\n",
       "      <td>...</td>\n",
       "      <td>...</td>\n",
       "      <td>...</td>\n",
       "      <td>...</td>\n",
       "      <td>...</td>\n",
       "      <td>...</td>\n",
       "      <td>...</td>\n",
       "    </tr>\n",
       "    <tr>\n",
       "      <th>791</th>\n",
       "      <td>0.442498</td>\n",
       "      <td>-1.362511</td>\n",
       "      <td>-0.806897</td>\n",
       "      <td>0.541961</td>\n",
       "      <td>-0.380580</td>\n",
       "      <td>-0.172087</td>\n",
       "      <td>-0.310645</td>\n",
       "      <td>-0.684426</td>\n",
       "      <td>4.360131</td>\n",
       "      <td>0.418513</td>\n",
       "      <td>0.321768</td>\n",
       "    </tr>\n",
       "    <tr>\n",
       "      <th>792</th>\n",
       "      <td>-0.477137</td>\n",
       "      <td>0.733939</td>\n",
       "      <td>-0.806897</td>\n",
       "      <td>-1.845150</td>\n",
       "      <td>-0.380580</td>\n",
       "      <td>-0.760588</td>\n",
       "      <td>0.353864</td>\n",
       "      <td>-0.215397</td>\n",
       "      <td>0.130788</td>\n",
       "      <td>-2.389415</td>\n",
       "      <td>0.057412</td>\n",
       "    </tr>\n",
       "    <tr>\n",
       "      <th>793</th>\n",
       "      <td>-0.477137</td>\n",
       "      <td>-1.362511</td>\n",
       "      <td>0.989565</td>\n",
       "      <td>0.541961</td>\n",
       "      <td>-0.380580</td>\n",
       "      <td>-0.048678</td>\n",
       "      <td>-0.861036</td>\n",
       "      <td>-0.331047</td>\n",
       "      <td>0.130788</td>\n",
       "      <td>-2.389415</td>\n",
       "      <td>-1.306522</td>\n",
       "    </tr>\n",
       "    <tr>\n",
       "      <th>794</th>\n",
       "      <td>2.095835</td>\n",
       "      <td>-1.362511</td>\n",
       "      <td>-0.806897</td>\n",
       "      <td>0.541961</td>\n",
       "      <td>0.847853</td>\n",
       "      <td>-0.492981</td>\n",
       "      <td>-0.436115</td>\n",
       "      <td>-0.165562</td>\n",
       "      <td>-0.399237</td>\n",
       "      <td>0.418513</td>\n",
       "      <td>-0.789120</td>\n",
       "    </tr>\n",
       "    <tr>\n",
       "      <th>795</th>\n",
       "      <td>-0.477137</td>\n",
       "      <td>0.733939</td>\n",
       "      <td>1.378431</td>\n",
       "      <td>0.541961</td>\n",
       "      <td>-0.380580</td>\n",
       "      <td>0.294119</td>\n",
       "      <td>-0.861036</td>\n",
       "      <td>-0.049245</td>\n",
       "      <td>0.130788</td>\n",
       "      <td>0.418513</td>\n",
       "      <td>1.227472</td>\n",
       "    </tr>\n",
       "  </tbody>\n",
       "</table>\n",
       "<p>796 rows × 11 columns</p>\n",
       "</div>"
      ],
      "text/plain": [
       "       Gender   Married  Dependents  Education  Self_Employed  \\\n",
       "0   -0.477137 -1.362511   -0.806897   0.541961      -0.380580   \n",
       "1   -0.477137  0.733939    0.880940   0.541961      -0.380580   \n",
       "2   -0.477137  0.733939   -0.806897   0.541961       2.627567   \n",
       "3   -0.477137  0.733939   -0.806897  -1.845150      -0.380580   \n",
       "4   -0.477137 -1.362511   -0.806897   0.541961      -0.380580   \n",
       "..        ...       ...         ...        ...            ...   \n",
       "791  0.442498 -1.362511   -0.806897   0.541961      -0.380580   \n",
       "792 -0.477137  0.733939   -0.806897  -1.845150      -0.380580   \n",
       "793 -0.477137 -1.362511    0.989565   0.541961      -0.380580   \n",
       "794  2.095835 -1.362511   -0.806897   0.541961       0.847853   \n",
       "795 -0.477137  0.733939    1.378431   0.541961      -0.380580   \n",
       "\n",
       "     ApplicantIncome  CoapplicantIncome  LoanAmount  Loan_Amount_Term  \\\n",
       "0           0.681780          -0.861036    0.000771          0.130788   \n",
       "1           0.234783           0.052840    0.000771          0.130788   \n",
       "2          -0.527201          -0.861036   -1.437336          0.130788   \n",
       "3          -0.791972           0.567956   -0.153545          0.130788   \n",
       "4           0.728848          -0.861036    0.238260          0.130788   \n",
       "..               ...                ...         ...               ...   \n",
       "791        -0.172087          -0.310645   -0.684426          4.360131   \n",
       "792        -0.760588           0.353864   -0.215397          0.130788   \n",
       "793        -0.048678          -0.861036   -0.331047          0.130788   \n",
       "794        -0.492981          -0.436115   -0.165562         -0.399237   \n",
       "795         0.294119          -0.861036   -0.049245          0.130788   \n",
       "\n",
       "     Credit_History  Property_Area  \n",
       "0          0.418513       1.227472  \n",
       "1          0.418513      -1.306522  \n",
       "2          0.418513       1.227472  \n",
       "3          0.418513       1.227472  \n",
       "4          0.418513       1.227472  \n",
       "..              ...            ...  \n",
       "791        0.418513       0.321768  \n",
       "792       -2.389415       0.057412  \n",
       "793       -2.389415      -1.306522  \n",
       "794        0.418513      -0.789120  \n",
       "795        0.418513       1.227472  \n",
       "\n",
       "[796 rows x 11 columns]"
      ]
     },
     "execution_count": 105,
     "metadata": {},
     "output_type": "execute_result"
    }
   ],
   "source": [
    "x"
   ]
  },
  {
   "cell_type": "code",
   "execution_count": 106,
   "id": "f2786d6e",
   "metadata": {},
   "outputs": [
    {
     "data": {
      "text/plain": [
       "0      1\n",
       "1      0\n",
       "2      1\n",
       "3      1\n",
       "4      1\n",
       "      ..\n",
       "791    0\n",
       "792    0\n",
       "793    0\n",
       "794    0\n",
       "795    0\n",
       "Name: Loan_Status, Length: 796, dtype: int32"
      ]
     },
     "execution_count": 106,
     "metadata": {},
     "output_type": "execute_result"
    }
   ],
   "source": [
    "y"
   ]
  },
  {
   "cell_type": "markdown",
   "id": "f7bc299c",
   "metadata": {},
   "source": [
    "## In our target variable, 1 stands for 'Yes' and 0 stands for 'No'."
   ]
  },
  {
   "cell_type": "code",
   "execution_count": 107,
   "id": "292479f9",
   "metadata": {},
   "outputs": [],
   "source": [
    "# Classification model will be build."
   ]
  },
  {
   "cell_type": "markdown",
   "id": "a358cef3",
   "metadata": {},
   "source": [
    "# Model Building."
   ]
  },
  {
   "cell_type": "code",
   "execution_count": 108,
   "id": "ecc8ec84",
   "metadata": {},
   "outputs": [],
   "source": [
    "#importing necessary libraries for model building\n",
    "\n",
    "from sklearn.linear_model import LogisticRegression\n",
    "from sklearn.metrics import accuracy_score,confusion_matrix,classification_report\n",
    "from sklearn.model_selection import train_test_split\n",
    "from sklearn.ensemble import RandomForestClassifier\n",
    "from sklearn.svm import SVC\n",
    "from sklearn.tree import DecisionTreeClassifier\n",
    "from sklearn.neighbors import KNeighborsClassifier"
   ]
  },
  {
   "cell_type": "code",
   "execution_count": 110,
   "id": "8dd76438",
   "metadata": {},
   "outputs": [
    {
     "name": "stdout",
     "output_type": "stream",
     "text": [
      "Best Accuracy score is 0.7738693467336684 on random state 38\n"
     ]
    }
   ],
   "source": [
    "maxAccu=0\n",
    "maxRS=0\n",
    "lg=LogisticRegression()\n",
    "for i in range(20,50):\n",
    "    x_train,x_test,y_train,y_test=train_test_split(x,y,random_state=i,test_size=.25)\n",
    "    lg.fit(x_train,y_train)\n",
    "    pred=lg.predict(x_test)\n",
    "    acc=accuracy_score(y_test,pred)\n",
    "    if acc>maxAccu:\n",
    "        maxAccu=acc\n",
    "        maxRS=i\n",
    "print('Best Accuracy score is', maxAccu , 'on random state', maxRS)"
   ]
  },
  {
   "cell_type": "code",
   "execution_count": 112,
   "id": "bb29412a",
   "metadata": {},
   "outputs": [],
   "source": [
    "# the model gives best accuracy at random state 38"
   ]
  },
  {
   "cell_type": "code",
   "execution_count": 113,
   "id": "d8d57dcb",
   "metadata": {},
   "outputs": [],
   "source": [
    "xtrain,xtest,ytrain,ytest=train_test_split(x,y,random_state=38,test_size=.25)\n"
   ]
  },
  {
   "cell_type": "markdown",
   "id": "45f8fe40",
   "metadata": {},
   "source": [
    "# Logistic Regression."
   ]
  },
  {
   "cell_type": "code",
   "execution_count": 114,
   "id": "edaaa868",
   "metadata": {},
   "outputs": [
    {
     "name": "stdout",
     "output_type": "stream",
     "text": [
      "0.7738693467336684\n",
      "[[65 36]\n",
      " [ 9 89]]\n",
      "              precision    recall  f1-score   support\n",
      "\n",
      "           0       0.88      0.64      0.74       101\n",
      "           1       0.71      0.91      0.80        98\n",
      "\n",
      "    accuracy                           0.77       199\n",
      "   macro avg       0.80      0.78      0.77       199\n",
      "weighted avg       0.80      0.77      0.77       199\n",
      "\n"
     ]
    }
   ],
   "source": [
    "lr=LogisticRegression()\n",
    "lr.fit(xtrain,ytrain)\n",
    "lpred=lr.predict(xtest)\n",
    "print(accuracy_score(ytest,lpred))\n",
    "print(confusion_matrix(ytest,lpred))\n",
    "print(classification_report(ytest,lpred))"
   ]
  },
  {
   "cell_type": "code",
   "execution_count": 115,
   "id": "35256ab1",
   "metadata": {},
   "outputs": [],
   "source": [
    "# 77.38% accuracy."
   ]
  },
  {
   "cell_type": "markdown",
   "id": "bb32e966",
   "metadata": {},
   "source": [
    "# RandomForest Classifier."
   ]
  },
  {
   "cell_type": "code",
   "execution_count": 116,
   "id": "1c4c2858",
   "metadata": {},
   "outputs": [
    {
     "name": "stdout",
     "output_type": "stream",
     "text": [
      "0.8341708542713567\n",
      "[[82 19]\n",
      " [14 84]]\n",
      "              precision    recall  f1-score   support\n",
      "\n",
      "           0       0.85      0.81      0.83       101\n",
      "           1       0.82      0.86      0.84        98\n",
      "\n",
      "    accuracy                           0.83       199\n",
      "   macro avg       0.83      0.83      0.83       199\n",
      "weighted avg       0.84      0.83      0.83       199\n",
      "\n"
     ]
    }
   ],
   "source": [
    "rc=RandomForestClassifier()\n",
    "rc.fit(xtrain,ytrain)\n",
    "cpred=rc.predict(xtest)\n",
    "print(accuracy_score(ytest,cpred))\n",
    "print(confusion_matrix(ytest,cpred))\n",
    "print(classification_report(ytest,cpred))"
   ]
  },
  {
   "cell_type": "code",
   "execution_count": 118,
   "id": "e2a386a0",
   "metadata": {},
   "outputs": [],
   "source": [
    "# 83.41% accuracy."
   ]
  },
  {
   "cell_type": "markdown",
   "id": "30da5be9",
   "metadata": {},
   "source": [
    "# SVC"
   ]
  },
  {
   "cell_type": "code",
   "execution_count": 119,
   "id": "6d6d0793",
   "metadata": {},
   "outputs": [
    {
     "name": "stdout",
     "output_type": "stream",
     "text": [
      "0.7939698492462312\n",
      "[[73 28]\n",
      " [13 85]]\n",
      "              precision    recall  f1-score   support\n",
      "\n",
      "           0       0.85      0.72      0.78       101\n",
      "           1       0.75      0.87      0.81        98\n",
      "\n",
      "    accuracy                           0.79       199\n",
      "   macro avg       0.80      0.80      0.79       199\n",
      "weighted avg       0.80      0.79      0.79       199\n",
      "\n"
     ]
    }
   ],
   "source": [
    "svc=SVC()\n",
    "svc.fit(xtrain,ytrain)\n",
    "spred=svc.predict(xtest)\n",
    "print(accuracy_score(ytest,spred))\n",
    "print(confusion_matrix(ytest,spred))\n",
    "print(classification_report(ytest,spred))"
   ]
  },
  {
   "cell_type": "code",
   "execution_count": 120,
   "id": "abc357ab",
   "metadata": {},
   "outputs": [],
   "source": [
    "# 79.39% accuracy."
   ]
  },
  {
   "cell_type": "markdown",
   "id": "cf4ad98f",
   "metadata": {},
   "source": [
    "# DecisionTree Classifier"
   ]
  },
  {
   "cell_type": "code",
   "execution_count": 121,
   "id": "c8cd924f",
   "metadata": {},
   "outputs": [
    {
     "name": "stdout",
     "output_type": "stream",
     "text": [
      "0.7286432160804021\n",
      "[[80 21]\n",
      " [33 65]]\n",
      "              precision    recall  f1-score   support\n",
      "\n",
      "           0       0.71      0.79      0.75       101\n",
      "           1       0.76      0.66      0.71        98\n",
      "\n",
      "    accuracy                           0.73       199\n",
      "   macro avg       0.73      0.73      0.73       199\n",
      "weighted avg       0.73      0.73      0.73       199\n",
      "\n"
     ]
    }
   ],
   "source": [
    "dt=DecisionTreeClassifier()\n",
    "dt.fit(xtrain,ytrain)\n",
    "dpred=dt.predict(xtest)\n",
    "print(accuracy_score(ytest,dpred))\n",
    "print(confusion_matrix(ytest,dpred))\n",
    "print(classification_report(ytest,dpred))"
   ]
  },
  {
   "cell_type": "code",
   "execution_count": 122,
   "id": "91822a7d",
   "metadata": {},
   "outputs": [],
   "source": [
    "# 72.86% accuracy."
   ]
  },
  {
   "cell_type": "markdown",
   "id": "7be9b439",
   "metadata": {},
   "source": [
    "# KNeighbors Classifier."
   ]
  },
  {
   "cell_type": "code",
   "execution_count": 123,
   "id": "e5d63b2c",
   "metadata": {},
   "outputs": [
    {
     "name": "stdout",
     "output_type": "stream",
     "text": [
      "0.7738693467336684\n",
      "[[84 17]\n",
      " [28 70]]\n",
      "              precision    recall  f1-score   support\n",
      "\n",
      "           0       0.75      0.83      0.79       101\n",
      "           1       0.80      0.71      0.76        98\n",
      "\n",
      "    accuracy                           0.77       199\n",
      "   macro avg       0.78      0.77      0.77       199\n",
      "weighted avg       0.78      0.77      0.77       199\n",
      "\n"
     ]
    }
   ],
   "source": [
    "k=KNeighborsClassifier()\n",
    "k.fit(xtrain,ytrain)\n",
    "kpred=k.predict(xtest)\n",
    "print(accuracy_score(ytest,kpred))\n",
    "print(confusion_matrix(ytest,kpred))\n",
    "print(classification_report(ytest,kpred))"
   ]
  },
  {
   "cell_type": "code",
   "execution_count": 124,
   "id": "7bcbbf17",
   "metadata": {},
   "outputs": [],
   "source": [
    "# 77.38% accuracy."
   ]
  },
  {
   "cell_type": "markdown",
   "id": "c263a0e3",
   "metadata": {},
   "source": [
    "# CrossValidation Score.\n"
   ]
  },
  {
   "cell_type": "code",
   "execution_count": 125,
   "id": "15869bf0",
   "metadata": {},
   "outputs": [],
   "source": [
    "from sklearn.model_selection import cross_val_score"
   ]
  },
  {
   "cell_type": "code",
   "execution_count": 126,
   "id": "982c92cb",
   "metadata": {},
   "outputs": [
    {
     "name": "stdout",
     "output_type": "stream",
     "text": [
      "[0.70625    0.74213836 0.73584906 0.73584906 0.76100629]\n",
      "0.7362185534591196\n"
     ]
    }
   ],
   "source": [
    "#for logistic regression\n",
    "\n",
    "ls=cross_val_score(lr,x,y)\n",
    "print(ls)\n",
    "print(ls.mean())"
   ]
  },
  {
   "cell_type": "code",
   "execution_count": 127,
   "id": "6bd278b9",
   "metadata": {},
   "outputs": [
    {
     "name": "stdout",
     "output_type": "stream",
     "text": [
      "[0.775      0.80503145 0.87421384 0.88679245 0.9245283 ]\n",
      "0.8531132075471699\n"
     ]
    }
   ],
   "source": [
    "# for random forest classifier\n",
    "\n",
    "rs=cross_val_score(rc,x,y)\n",
    "print(rs)\n",
    "print(rs.mean())"
   ]
  },
  {
   "cell_type": "code",
   "execution_count": 128,
   "id": "047f08b1",
   "metadata": {},
   "outputs": [
    {
     "name": "stdout",
     "output_type": "stream",
     "text": [
      "[0.7125     0.74842767 0.75471698 0.74213836 0.7672956 ]\n",
      "0.7450157232704402\n"
     ]
    }
   ],
   "source": [
    "# for svc\n",
    "\n",
    "ss=cross_val_score(svc,x,y)\n",
    "print(ss)\n",
    "print(ss.mean())"
   ]
  },
  {
   "cell_type": "code",
   "execution_count": 129,
   "id": "17b1cbd8",
   "metadata": {},
   "outputs": [
    {
     "name": "stdout",
     "output_type": "stream",
     "text": [
      "[0.7125     0.72955975 0.81132075 0.79245283 0.83647799]\n",
      "0.7764622641509434\n"
     ]
    }
   ],
   "source": [
    "# for decisiontree classifier\n",
    "\n",
    "ds=cross_val_score(dt,x,y)\n",
    "print(ds)\n",
    "print(ds.mean())"
   ]
  },
  {
   "cell_type": "code",
   "execution_count": 130,
   "id": "2b75b68d",
   "metadata": {},
   "outputs": [
    {
     "name": "stdout",
     "output_type": "stream",
     "text": [
      "[0.70625    0.69811321 0.7672956  0.77987421 0.79874214]\n",
      "0.7500550314465408\n"
     ]
    }
   ],
   "source": [
    "# for kneighbors classifier\n",
    "\n",
    "ks=cross_val_score(k,x,y)\n",
    "print(ks)\n",
    "print(ks.mean())\n"
   ]
  },
  {
   "cell_type": "code",
   "execution_count": 131,
   "id": "7122fd8a",
   "metadata": {},
   "outputs": [],
   "source": [
    "#  as per the observation, RandomForest Classifier is our best model so far.\n",
    "# so hyperparameter tuning will be done on that model"
   ]
  },
  {
   "cell_type": "markdown",
   "id": "3595afed",
   "metadata": {},
   "source": [
    "# HyperParameter Tuning"
   ]
  },
  {
   "cell_type": "code",
   "execution_count": 132,
   "id": "533560a4",
   "metadata": {},
   "outputs": [],
   "source": [
    "from sklearn.model_selection import GridSearchCV"
   ]
  },
  {
   "cell_type": "code",
   "execution_count": 133,
   "id": "212aebde",
   "metadata": {},
   "outputs": [
    {
     "data": {
      "text/plain": [
       "{'criterion': 'entropy', 'max_depth': 15, 'max_features': 'sqrt'}"
      ]
     },
     "execution_count": 133,
     "metadata": {},
     "output_type": "execute_result"
    }
   ],
   "source": [
    "param={'max_features':['auto','sqrt','log2'],\n",
    "      'max_depth':[5,10,15,20,25],\n",
    "      'criterion':['gini','entropy']}\n",
    "\n",
    "gcs=GridSearchCV(rc,param,cv=5,scoring='accuracy')\n",
    "gcs.fit(xtrain,ytrain)\n",
    "gcs.best_params_\n"
   ]
  },
  {
   "cell_type": "code",
   "execution_count": 134,
   "id": "bdfee2a5",
   "metadata": {},
   "outputs": [],
   "source": [
    "fmodel=RandomForestClassifier(max_features='sqrt',criterion='entropy',max_depth=15)"
   ]
  },
  {
   "cell_type": "code",
   "execution_count": 135,
   "id": "e917e274",
   "metadata": {},
   "outputs": [
    {
     "data": {
      "text/plain": [
       "RandomForestClassifier(criterion='entropy', max_depth=15, max_features='sqrt')"
      ]
     },
     "execution_count": 135,
     "metadata": {},
     "output_type": "execute_result"
    }
   ],
   "source": [
    "fmodel.fit(xtrain,ytrain)"
   ]
  },
  {
   "cell_type": "code",
   "execution_count": 136,
   "id": "a2af2d2e",
   "metadata": {},
   "outputs": [
    {
     "name": "stdout",
     "output_type": "stream",
     "text": [
      "83.41708542713567\n"
     ]
    }
   ],
   "source": [
    "pred=fmodel.predict(xtest)\n",
    "acc=accuracy_score(ytest,pred)\n",
    "print(acc*100)"
   ]
  },
  {
   "cell_type": "code",
   "execution_count": 137,
   "id": "f9495f6e",
   "metadata": {},
   "outputs": [],
   "source": [
    "#  the randomforest classifier gives the accuracy of 83.41%"
   ]
  },
  {
   "cell_type": "code",
   "execution_count": 138,
   "id": "6099496a",
   "metadata": {},
   "outputs": [],
   "source": [
    "# let's save the model"
   ]
  },
  {
   "cell_type": "code",
   "execution_count": 139,
   "id": "66e6c671",
   "metadata": {},
   "outputs": [
    {
     "data": {
      "text/plain": [
       "['loan_application_status_prediction']"
      ]
     },
     "execution_count": 139,
     "metadata": {},
     "output_type": "execute_result"
    }
   ],
   "source": [
    "import joblib\n",
    "joblib.dump(fmodel,'loan_application_status_prediction')"
   ]
  },
  {
   "cell_type": "code",
   "execution_count": 140,
   "id": "1978f02d",
   "metadata": {},
   "outputs": [],
   "source": [
    "#load the model"
   ]
  },
  {
   "cell_type": "code",
   "execution_count": 141,
   "id": "9f2f0584",
   "metadata": {},
   "outputs": [
    {
     "name": "stdout",
     "output_type": "stream",
     "text": [
      "[1 1 1 1 1 0 0 1 0 1 1 0 1 0 1 1 0 1 1 1 1 0 1 0 0 0 1 1 1 1 1 1 0 1 1 1 1\n",
      " 0 0 0 1 1 0 0 1 0 1 0 0 0 0 0 1 1 1 1 0 1 0 0 0 0 1 1 0 1 0 1 1 1 1 0 1 0\n",
      " 1 1 1 0 0 0 0 1 1 1 0 0 0 1 0 1 1 1 1 0 0 0 0 0 0 1 1 0 1 0 1 1 1 0 0 0 1\n",
      " 0 1 0 1 1 1 0 0 1 1 0 1 1 1 0 1 1 0 1 1 0 0 1 1 0 0 0 0 0 1 1 0 1 0 0 1 1\n",
      " 0 0 1 0 0 1 1 0 1 0 1 0 0 1 0 1 0 1 1 0 1 0 1 1 0 1 0 0 1 1 1 1 0 1 1 0 0\n",
      " 1 0 0 1 1 0 1 0 0 1 1 0 1 0]\n"
     ]
    }
   ],
   "source": [
    "m = joblib.load(\"loan_application_status_prediction\")\n",
    "print(m.predict(xtest))"
   ]
  },
  {
   "cell_type": "code",
   "execution_count": 142,
   "id": "731403d2",
   "metadata": {},
   "outputs": [],
   "source": [
    "d=pd.DataFrame({'predicted values':pred,'actual values':ytest})"
   ]
  },
  {
   "cell_type": "code",
   "execution_count": 143,
   "id": "76e9b679",
   "metadata": {},
   "outputs": [
    {
     "data": {
      "text/html": [
       "<div>\n",
       "<style scoped>\n",
       "    .dataframe tbody tr th:only-of-type {\n",
       "        vertical-align: middle;\n",
       "    }\n",
       "\n",
       "    .dataframe tbody tr th {\n",
       "        vertical-align: top;\n",
       "    }\n",
       "\n",
       "    .dataframe thead th {\n",
       "        text-align: right;\n",
       "    }\n",
       "</style>\n",
       "<table border=\"1\" class=\"dataframe\">\n",
       "  <thead>\n",
       "    <tr style=\"text-align: right;\">\n",
       "      <th></th>\n",
       "      <th>predicted values</th>\n",
       "      <th>actual values</th>\n",
       "    </tr>\n",
       "  </thead>\n",
       "  <tbody>\n",
       "    <tr>\n",
       "      <th>3</th>\n",
       "      <td>1</td>\n",
       "      <td>1</td>\n",
       "    </tr>\n",
       "    <tr>\n",
       "      <th>230</th>\n",
       "      <td>1</td>\n",
       "      <td>1</td>\n",
       "    </tr>\n",
       "    <tr>\n",
       "      <th>273</th>\n",
       "      <td>1</td>\n",
       "      <td>1</td>\n",
       "    </tr>\n",
       "    <tr>\n",
       "      <th>336</th>\n",
       "      <td>1</td>\n",
       "      <td>1</td>\n",
       "    </tr>\n",
       "    <tr>\n",
       "      <th>45</th>\n",
       "      <td>1</td>\n",
       "      <td>1</td>\n",
       "    </tr>\n",
       "    <tr>\n",
       "      <th>...</th>\n",
       "      <td>...</td>\n",
       "      <td>...</td>\n",
       "    </tr>\n",
       "    <tr>\n",
       "      <th>134</th>\n",
       "      <td>1</td>\n",
       "      <td>1</td>\n",
       "    </tr>\n",
       "    <tr>\n",
       "      <th>291</th>\n",
       "      <td>1</td>\n",
       "      <td>1</td>\n",
       "    </tr>\n",
       "    <tr>\n",
       "      <th>769</th>\n",
       "      <td>0</td>\n",
       "      <td>0</td>\n",
       "    </tr>\n",
       "    <tr>\n",
       "      <th>124</th>\n",
       "      <td>1</td>\n",
       "      <td>0</td>\n",
       "    </tr>\n",
       "    <tr>\n",
       "      <th>501</th>\n",
       "      <td>0</td>\n",
       "      <td>1</td>\n",
       "    </tr>\n",
       "  </tbody>\n",
       "</table>\n",
       "<p>199 rows × 2 columns</p>\n",
       "</div>"
      ],
      "text/plain": [
       "     predicted values  actual values\n",
       "3                   1              1\n",
       "230                 1              1\n",
       "273                 1              1\n",
       "336                 1              1\n",
       "45                  1              1\n",
       "..                ...            ...\n",
       "134                 1              1\n",
       "291                 1              1\n",
       "769                 0              0\n",
       "124                 1              0\n",
       "501                 0              1\n",
       "\n",
       "[199 rows x 2 columns]"
      ]
     },
     "execution_count": 143,
     "metadata": {},
     "output_type": "execute_result"
    }
   ],
   "source": [
    "d"
   ]
  },
  {
   "cell_type": "markdown",
   "id": "8e656684",
   "metadata": {},
   "source": [
    "# AUC-ROC curve."
   ]
  },
  {
   "cell_type": "code",
   "execution_count": 145,
   "id": "e8330308",
   "metadata": {},
   "outputs": [
    {
     "data": {
      "image/png": "[encoded data removed]",
      "text/plain": [
       "<Figure size 432x288 with 1 Axes>"
      ]
     },
     "metadata": {
      "needs_background": "light"
     },
     "output_type": "display_data"
    }
   ],
   "source": [
    "from sklearn.metrics import plot_roc_curve\n",
    "plot_roc_curve(fmodel,xtest,ytest)\n",
    "plt.title('Random Forest Classifier')\n",
    "plt.show()\n"
   ]
  },
  {
   "cell_type": "code",
   "execution_count": 147,
   "id": "c7ae6e41",
   "metadata": {},
   "outputs": [],
   "source": [
    "from sklearn.metrics import roc_auc_score\n",
    "auc_score = roc_auc_score(ytest, fmodel.predict(xtest))"
   ]
  },
  {
   "cell_type": "code",
   "execution_count": 148,
   "id": "880e89f1",
   "metadata": {},
   "outputs": [
    {
     "data": {
      "text/plain": [
       "0.8348151141644776"
      ]
     },
     "execution_count": 148,
     "metadata": {},
     "output_type": "execute_result"
    }
   ],
   "source": [
    "auc_score"
   ]
  },
  {
   "cell_type": "code",
   "execution_count": null,
   "id": "d76e0249",
   "metadata": {},
   "outputs": [],
   "source": []
  }
 ],
 "metadata": {
  "kernelspec": {
   "display_name": "Python 3 (ipykernel)",
   "language": "python",
   "name": "python3"
  },
  "language_info": {
   "codemirror_mode": {
    "name": "ipython",
    "version": 3
   },
   "file_extension": ".py",
   "mimetype": "text/x-python",
   "name": "python",
   "nbconvert_exporter": "python",
   "pygments_lexer": "ipython3",
   "version": "3.9.12"
  }
 },
 "nbformat": 4,
 "nbformat_minor": 5
}
